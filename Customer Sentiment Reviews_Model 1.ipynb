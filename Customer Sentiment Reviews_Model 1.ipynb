{
 "cells": [
  {
   "cell_type": "markdown",
   "id": "db2af6a4",
   "metadata": {},
   "source": [
    "# Customer Sentiment Naive Bayes Classifier"
   ]
  },
  {
   "cell_type": "markdown",
   "id": "3a91e9eb",
   "metadata": {},
   "source": [
    "Classifier to predict whether a customer review is positive, negative, or neutral."
   ]
  },
  {
   "cell_type": "markdown",
   "id": "51c376da",
   "metadata": {},
   "source": [
    "#### Requirements:"
   ]
  },
  {
   "cell_type": "markdown",
   "id": "3317ba18",
   "metadata": {},
   "source": [
    "* pandas\n",
    "* Numpy\n",
    "* nltk\n",
    "* re"
   ]
  },
  {
   "cell_type": "code",
   "execution_count": 2,
   "id": "4943e6c4",
   "metadata": {},
   "outputs": [
    {
     "name": "stderr",
     "output_type": "stream",
     "text": [
      "/opt/anaconda3/lib/python3.9/site-packages/scipy/__init__.py:146: UserWarning: A NumPy version >=1.16.5 and <1.23.0 is required for this version of SciPy (detected version 1.23.5\n",
      "  warnings.warn(f\"A NumPy version >={np_minversion} and <{np_maxversion}\"\n"
     ]
    }
   ],
   "source": [
    "import numpy as np\n",
    "import pandas as pd\n",
    "import re\n",
    "from nltk.tokenize import word_tokenize"
   ]
  },
  {
   "cell_type": "markdown",
   "id": "8212aca9",
   "metadata": {},
   "source": [
    "#### "
   ]
  },
  {
   "cell_type": "markdown",
   "id": "00ac0707",
   "metadata": {},
   "source": [
    "### Quick view of the raw data:"
   ]
  },
  {
   "cell_type": "code",
   "execution_count": 3,
   "id": "e571530a",
   "metadata": {},
   "outputs": [],
   "source": [
    "reviews = pd.read_csv('iphone.csv')"
   ]
  },
  {
   "cell_type": "code",
   "execution_count": 4,
   "id": "a86eed51",
   "metadata": {},
   "outputs": [
    {
     "data": {
      "text/html": [
       "<div>\n",
       "<style scoped>\n",
       "    .dataframe tbody tr th:only-of-type {\n",
       "        vertical-align: middle;\n",
       "    }\n",
       "\n",
       "    .dataframe tbody tr th {\n",
       "        vertical-align: top;\n",
       "    }\n",
       "\n",
       "    .dataframe thead th {\n",
       "        text-align: right;\n",
       "    }\n",
       "</style>\n",
       "<table border=\"1\" class=\"dataframe\">\n",
       "  <thead>\n",
       "    <tr style=\"text-align: right;\">\n",
       "      <th></th>\n",
       "      <th>productAsin</th>\n",
       "      <th>country</th>\n",
       "      <th>date</th>\n",
       "      <th>isVerified</th>\n",
       "      <th>ratingScore</th>\n",
       "      <th>reviewTitle</th>\n",
       "      <th>reviewDescription</th>\n",
       "      <th>reviewUrl</th>\n",
       "      <th>reviewedIn</th>\n",
       "      <th>variant</th>\n",
       "      <th>variantAsin</th>\n",
       "    </tr>\n",
       "  </thead>\n",
       "  <tbody>\n",
       "    <tr>\n",
       "      <th>0</th>\n",
       "      <td>B09G9BL5CP</td>\n",
       "      <td>India</td>\n",
       "      <td>11-08-2024</td>\n",
       "      <td>True</td>\n",
       "      <td>4</td>\n",
       "      <td>No charger</td>\n",
       "      <td>Every thing is good about iPhones, there's not...</td>\n",
       "      <td>https://www.amazon.in/gp/customer-reviews/R345...</td>\n",
       "      <td>Reviewed in India on 11 August 2024</td>\n",
       "      <td>Colour: MidnightSize: 256 GB</td>\n",
       "      <td>B09G9BQS98</td>\n",
       "    </tr>\n",
       "    <tr>\n",
       "      <th>1</th>\n",
       "      <td>B09G9BL5CP</td>\n",
       "      <td>India</td>\n",
       "      <td>16-08-2024</td>\n",
       "      <td>True</td>\n",
       "      <td>5</td>\n",
       "      <td>iPhone 13 256GB</td>\n",
       "      <td>It look so fabulous, I am android user switche...</td>\n",
       "      <td>https://www.amazon.in/gp/customer-reviews/R2HJ...</td>\n",
       "      <td>Reviewed in India on 16 August 2024</td>\n",
       "      <td>Colour: MidnightSize: 256 GB</td>\n",
       "      <td>B09G9BQS98</td>\n",
       "    </tr>\n",
       "    <tr>\n",
       "      <th>2</th>\n",
       "      <td>B09G9BL5CP</td>\n",
       "      <td>India</td>\n",
       "      <td>14-05-2024</td>\n",
       "      <td>True</td>\n",
       "      <td>4</td>\n",
       "      <td>Flip camera option nill</td>\n",
       "      <td>I tried to flip camera while recording but no ...</td>\n",
       "      <td>https://www.amazon.in/gp/customer-reviews/R3Y7...</td>\n",
       "      <td>Reviewed in India on 14 May 2024</td>\n",
       "      <td>Colour: MidnightSize: 256 GB</td>\n",
       "      <td>B09G9BQS98</td>\n",
       "    </tr>\n",
       "    <tr>\n",
       "      <th>3</th>\n",
       "      <td>B09G9BL5CP</td>\n",
       "      <td>India</td>\n",
       "      <td>24-06-2024</td>\n",
       "      <td>True</td>\n",
       "      <td>5</td>\n",
       "      <td>Product</td>\n",
       "      <td>100% genuine</td>\n",
       "      <td>https://www.amazon.in/gp/customer-reviews/R1P9...</td>\n",
       "      <td>Reviewed in India on 24 June 2024</td>\n",
       "      <td>Colour: MidnightSize: 256 GB</td>\n",
       "      <td>B09G9BQS98</td>\n",
       "    </tr>\n",
       "    <tr>\n",
       "      <th>4</th>\n",
       "      <td>B09G9BL5CP</td>\n",
       "      <td>India</td>\n",
       "      <td>18-05-2024</td>\n",
       "      <td>True</td>\n",
       "      <td>5</td>\n",
       "      <td>Good product</td>\n",
       "      <td>Happy to get the iPhone 13 in Amazon offer</td>\n",
       "      <td>https://www.amazon.in/gp/customer-reviews/R1XI...</td>\n",
       "      <td>Reviewed in India on 18 May 2024</td>\n",
       "      <td>Colour: MidnightSize: 256 GB</td>\n",
       "      <td>B09G9BQS98</td>\n",
       "    </tr>\n",
       "  </tbody>\n",
       "</table>\n",
       "</div>"
      ],
      "text/plain": [
       "  productAsin country        date  isVerified  ratingScore  \\\n",
       "0  B09G9BL5CP   India  11-08-2024        True            4   \n",
       "1  B09G9BL5CP   India  16-08-2024        True            5   \n",
       "2  B09G9BL5CP   India  14-05-2024        True            4   \n",
       "3  B09G9BL5CP   India  24-06-2024        True            5   \n",
       "4  B09G9BL5CP   India  18-05-2024        True            5   \n",
       "\n",
       "               reviewTitle                                  reviewDescription  \\\n",
       "0               No charger  Every thing is good about iPhones, there's not...   \n",
       "1          iPhone 13 256GB  It look so fabulous, I am android user switche...   \n",
       "2  Flip camera option nill  I tried to flip camera while recording but no ...   \n",
       "3                  Product                                       100% genuine   \n",
       "4             Good product         Happy to get the iPhone 13 in Amazon offer   \n",
       "\n",
       "                                           reviewUrl  \\\n",
       "0  https://www.amazon.in/gp/customer-reviews/R345...   \n",
       "1  https://www.amazon.in/gp/customer-reviews/R2HJ...   \n",
       "2  https://www.amazon.in/gp/customer-reviews/R3Y7...   \n",
       "3  https://www.amazon.in/gp/customer-reviews/R1P9...   \n",
       "4  https://www.amazon.in/gp/customer-reviews/R1XI...   \n",
       "\n",
       "                            reviewedIn                       variant  \\\n",
       "0  Reviewed in India on 11 August 2024  Colour: MidnightSize: 256 GB   \n",
       "1  Reviewed in India on 16 August 2024  Colour: MidnightSize: 256 GB   \n",
       "2     Reviewed in India on 14 May 2024  Colour: MidnightSize: 256 GB   \n",
       "3    Reviewed in India on 24 June 2024  Colour: MidnightSize: 256 GB   \n",
       "4     Reviewed in India on 18 May 2024  Colour: MidnightSize: 256 GB   \n",
       "\n",
       "  variantAsin  \n",
       "0  B09G9BQS98  \n",
       "1  B09G9BQS98  \n",
       "2  B09G9BQS98  \n",
       "3  B09G9BQS98  \n",
       "4  B09G9BQS98  "
      ]
     },
     "execution_count": 4,
     "metadata": {},
     "output_type": "execute_result"
    }
   ],
   "source": [
    "reviews[:5]"
   ]
  },
  {
   "cell_type": "markdown",
   "id": "60746725",
   "metadata": {},
   "source": [
    "#### "
   ]
  },
  {
   "cell_type": "markdown",
   "id": "5c717663",
   "metadata": {},
   "source": [
    "### Clean and prepare the data:"
   ]
  },
  {
   "cell_type": "code",
   "execution_count": 8,
   "id": "a1b91315",
   "metadata": {},
   "outputs": [],
   "source": [
    "column_name_mapping = {'productAsin':'Product_Number','country':'Country','date':'Date',\n",
    "                       'isVerified':'Verified','ratingScore':'Rating_Score','reviewTitle':'Review_Title',\n",
    "                       'reviewDescription':'Review_Description','reviewUrl':'Review_Url',\n",
    "                       'reviewedIn':'Reviewer_Location','variant':'Product_Type',\n",
    "                       'variantAsin':'Product_Type_Number'}\n",
    "\n",
    "reviews.rename(columns=column_name_mapping, inplace=True)"
   ]
  },
  {
   "cell_type": "code",
   "execution_count": 9,
   "id": "796d8209",
   "metadata": {},
   "outputs": [],
   "source": [
    "# Removes emoji characters\n",
    "\n",
    "emojis = (r'[\\U0001F600-\\U0001F64F'  # Emoticons\n",
    "        r'\\U0001F300-\\U0001F5FF'  # Miscellaneous Symbols and Pictographs\n",
    "        r'\\U0001F680-\\U0001F6FF'  # Transport and Map Symbols\n",
    "        r'\\U0001F700-\\U0001F77F'  # Alchemical Symbols\n",
    "        r'\\U0001F780-\\U0001F7FF'  # Geometric Shapes Extended\n",
    "        r'\\U0001F800-\\U0001F8FF'  # Supplemental Arrows-C\n",
    "        r'\\U0001F900-\\U0001F9FF'  # Supplemental Symbols and Pictographs\n",
    "        r'\\U0001FA00-\\U0001FA6F'  # Chess Symbols\n",
    "        r'\\U0001FA70-\\U0001FAFF'  # Symbols and Pictographs Extended-A\n",
    "        r'\\U00002764\\ufe0f'  # Red Heart emoji specifically\n",
    "        r']+')\n",
    "\n",
    "reviews['Review_Description'] = reviews['Review_Description'].apply(\n",
    "    lambda x: re.sub(emojis, '', str(x)) if isinstance(x, str) else x)"
   ]
  },
  {
   "cell_type": "code",
   "execution_count": 10,
   "id": "139b2b04",
   "metadata": {},
   "outputs": [
    {
     "data": {
      "text/plain": [
       "0       Every thing is good about iPhones, there's not...\n",
       "1       It look so fabulous, I am android user switche...\n",
       "2       I tried to flip camera while recording but no ...\n",
       "3                                            100% genuine\n",
       "4              Happy to get the iPhone 13 in Amazon offer\n",
       "                              ...                        \n",
       "3057    Useless phon never buy this heat n useless cam...\n",
       "3058    iam not happy with this product why because ch...\n",
       "3059                                           Good phone\n",
       "3060    While charging mobile it's getting so hot even...\n",
       "3061    Battery power is be very bad need to chat on d...\n",
       "Name: Review_Description, Length: 3062, dtype: object"
      ]
     },
     "execution_count": 10,
     "metadata": {},
     "output_type": "execute_result"
    }
   ],
   "source": [
    "reviews['Review_Description']"
   ]
  },
  {
   "cell_type": "code",
   "execution_count": 11,
   "id": "c8026be0",
   "metadata": {},
   "outputs": [],
   "source": [
    "reviews['Rating_Category'] = np.where(\n",
    "    reviews['Rating_Score'] >= 4, 'High', np.where(reviews['Rating_Score'] <=2, 'Low', 'Neutral'))"
   ]
  },
  {
   "cell_type": "code",
   "execution_count": 12,
   "id": "51d2a8b8",
   "metadata": {},
   "outputs": [],
   "source": [
    "rating_mapping = {'High':1,'Low':2,'Neutral':3}"
   ]
  },
  {
   "cell_type": "code",
   "execution_count": 13,
   "id": "b0aa4d9c",
   "metadata": {},
   "outputs": [],
   "source": [
    "reviews['Numerical_Rating_Category'] = reviews['Rating_Category'].map(rating_mapping)"
   ]
  },
  {
   "cell_type": "code",
   "execution_count": 14,
   "id": "7af82c12",
   "metadata": {},
   "outputs": [
    {
     "data": {
      "text/html": [
       "<div>\n",
       "<style scoped>\n",
       "    .dataframe tbody tr th:only-of-type {\n",
       "        vertical-align: middle;\n",
       "    }\n",
       "\n",
       "    .dataframe tbody tr th {\n",
       "        vertical-align: top;\n",
       "    }\n",
       "\n",
       "    .dataframe thead th {\n",
       "        text-align: right;\n",
       "    }\n",
       "</style>\n",
       "<table border=\"1\" class=\"dataframe\">\n",
       "  <thead>\n",
       "    <tr style=\"text-align: right;\">\n",
       "      <th></th>\n",
       "      <th>Product_Number</th>\n",
       "      <th>Country</th>\n",
       "      <th>Date</th>\n",
       "      <th>Verified</th>\n",
       "      <th>Rating_Score</th>\n",
       "      <th>Review_Title</th>\n",
       "      <th>Review_Description</th>\n",
       "      <th>Review_Url</th>\n",
       "      <th>Reviewer_Location</th>\n",
       "      <th>Product_Type</th>\n",
       "      <th>Product_Type_Number</th>\n",
       "      <th>Rating_Category</th>\n",
       "      <th>Numerical_Rating_Category</th>\n",
       "    </tr>\n",
       "  </thead>\n",
       "  <tbody>\n",
       "    <tr>\n",
       "      <th>0</th>\n",
       "      <td>B09G9BL5CP</td>\n",
       "      <td>India</td>\n",
       "      <td>11-08-2024</td>\n",
       "      <td>True</td>\n",
       "      <td>4</td>\n",
       "      <td>No charger</td>\n",
       "      <td>Every thing is good about iPhones, there's not...</td>\n",
       "      <td>https://www.amazon.in/gp/customer-reviews/R345...</td>\n",
       "      <td>Reviewed in India on 11 August 2024</td>\n",
       "      <td>Colour: MidnightSize: 256 GB</td>\n",
       "      <td>B09G9BQS98</td>\n",
       "      <td>High</td>\n",
       "      <td>1</td>\n",
       "    </tr>\n",
       "    <tr>\n",
       "      <th>1</th>\n",
       "      <td>B09G9BL5CP</td>\n",
       "      <td>India</td>\n",
       "      <td>16-08-2024</td>\n",
       "      <td>True</td>\n",
       "      <td>5</td>\n",
       "      <td>iPhone 13 256GB</td>\n",
       "      <td>It look so fabulous, I am android user switche...</td>\n",
       "      <td>https://www.amazon.in/gp/customer-reviews/R2HJ...</td>\n",
       "      <td>Reviewed in India on 16 August 2024</td>\n",
       "      <td>Colour: MidnightSize: 256 GB</td>\n",
       "      <td>B09G9BQS98</td>\n",
       "      <td>High</td>\n",
       "      <td>1</td>\n",
       "    </tr>\n",
       "    <tr>\n",
       "      <th>2</th>\n",
       "      <td>B09G9BL5CP</td>\n",
       "      <td>India</td>\n",
       "      <td>14-05-2024</td>\n",
       "      <td>True</td>\n",
       "      <td>4</td>\n",
       "      <td>Flip camera option nill</td>\n",
       "      <td>I tried to flip camera while recording but no ...</td>\n",
       "      <td>https://www.amazon.in/gp/customer-reviews/R3Y7...</td>\n",
       "      <td>Reviewed in India on 14 May 2024</td>\n",
       "      <td>Colour: MidnightSize: 256 GB</td>\n",
       "      <td>B09G9BQS98</td>\n",
       "      <td>High</td>\n",
       "      <td>1</td>\n",
       "    </tr>\n",
       "    <tr>\n",
       "      <th>3</th>\n",
       "      <td>B09G9BL5CP</td>\n",
       "      <td>India</td>\n",
       "      <td>24-06-2024</td>\n",
       "      <td>True</td>\n",
       "      <td>5</td>\n",
       "      <td>Product</td>\n",
       "      <td>100% genuine</td>\n",
       "      <td>https://www.amazon.in/gp/customer-reviews/R1P9...</td>\n",
       "      <td>Reviewed in India on 24 June 2024</td>\n",
       "      <td>Colour: MidnightSize: 256 GB</td>\n",
       "      <td>B09G9BQS98</td>\n",
       "      <td>High</td>\n",
       "      <td>1</td>\n",
       "    </tr>\n",
       "    <tr>\n",
       "      <th>4</th>\n",
       "      <td>B09G9BL5CP</td>\n",
       "      <td>India</td>\n",
       "      <td>18-05-2024</td>\n",
       "      <td>True</td>\n",
       "      <td>5</td>\n",
       "      <td>Good product</td>\n",
       "      <td>Happy to get the iPhone 13 in Amazon offer</td>\n",
       "      <td>https://www.amazon.in/gp/customer-reviews/R1XI...</td>\n",
       "      <td>Reviewed in India on 18 May 2024</td>\n",
       "      <td>Colour: MidnightSize: 256 GB</td>\n",
       "      <td>B09G9BQS98</td>\n",
       "      <td>High</td>\n",
       "      <td>1</td>\n",
       "    </tr>\n",
       "  </tbody>\n",
       "</table>\n",
       "</div>"
      ],
      "text/plain": [
       "  Product_Number Country        Date  Verified  Rating_Score  \\\n",
       "0     B09G9BL5CP   India  11-08-2024      True             4   \n",
       "1     B09G9BL5CP   India  16-08-2024      True             5   \n",
       "2     B09G9BL5CP   India  14-05-2024      True             4   \n",
       "3     B09G9BL5CP   India  24-06-2024      True             5   \n",
       "4     B09G9BL5CP   India  18-05-2024      True             5   \n",
       "\n",
       "              Review_Title                                 Review_Description  \\\n",
       "0               No charger  Every thing is good about iPhones, there's not...   \n",
       "1          iPhone 13 256GB  It look so fabulous, I am android user switche...   \n",
       "2  Flip camera option nill  I tried to flip camera while recording but no ...   \n",
       "3                  Product                                       100% genuine   \n",
       "4             Good product         Happy to get the iPhone 13 in Amazon offer   \n",
       "\n",
       "                                          Review_Url  \\\n",
       "0  https://www.amazon.in/gp/customer-reviews/R345...   \n",
       "1  https://www.amazon.in/gp/customer-reviews/R2HJ...   \n",
       "2  https://www.amazon.in/gp/customer-reviews/R3Y7...   \n",
       "3  https://www.amazon.in/gp/customer-reviews/R1P9...   \n",
       "4  https://www.amazon.in/gp/customer-reviews/R1XI...   \n",
       "\n",
       "                     Reviewer_Location                  Product_Type  \\\n",
       "0  Reviewed in India on 11 August 2024  Colour: MidnightSize: 256 GB   \n",
       "1  Reviewed in India on 16 August 2024  Colour: MidnightSize: 256 GB   \n",
       "2     Reviewed in India on 14 May 2024  Colour: MidnightSize: 256 GB   \n",
       "3    Reviewed in India on 24 June 2024  Colour: MidnightSize: 256 GB   \n",
       "4     Reviewed in India on 18 May 2024  Colour: MidnightSize: 256 GB   \n",
       "\n",
       "  Product_Type_Number Rating_Category  Numerical_Rating_Category  \n",
       "0          B09G9BQS98            High                          1  \n",
       "1          B09G9BQS98            High                          1  \n",
       "2          B09G9BQS98            High                          1  \n",
       "3          B09G9BQS98            High                          1  \n",
       "4          B09G9BQS98            High                          1  "
      ]
     },
     "execution_count": 14,
     "metadata": {},
     "output_type": "execute_result"
    }
   ],
   "source": [
    "reviews.head()"
   ]
  },
  {
   "cell_type": "code",
   "execution_count": 15,
   "id": "2a67b290",
   "metadata": {},
   "outputs": [],
   "source": [
    "# Splits or tokens sentence to individual words\n",
    "def process_reviews(Review_Description):\n",
    "    if isinstance(Review_Description,str):\n",
    "        text = Review_Description.lower()\n",
    "        pattern = r'\\d+%|\\w+|[^\\w\\s]'\n",
    "        word_tokens = re.findall(pattern, text)\n",
    "        return word_tokens\n",
    "    return None"
   ]
  },
  {
   "cell_type": "code",
   "execution_count": 16,
   "id": "a2277033",
   "metadata": {},
   "outputs": [],
   "source": [
    "reviews['Review_Words'] = reviews['Review_Description'].apply(process_reviews)"
   ]
  },
  {
   "cell_type": "code",
   "execution_count": 28,
   "id": "215530e4",
   "metadata": {},
   "outputs": [],
   "source": [
    "reviews = reviews.dropna(subset=['Review_Description'])"
   ]
  },
  {
   "cell_type": "markdown",
   "id": "ae72d038",
   "metadata": {},
   "source": [
    "#### "
   ]
  },
  {
   "cell_type": "markdown",
   "id": "a4749e3e",
   "metadata": {},
   "source": [
    "### Exploration of processed data:"
   ]
  },
  {
   "cell_type": "code",
   "execution_count": 29,
   "id": "569b3d09",
   "metadata": {},
   "outputs": [
    {
     "data": {
      "text/html": [
       "<div>\n",
       "<style scoped>\n",
       "    .dataframe tbody tr th:only-of-type {\n",
       "        vertical-align: middle;\n",
       "    }\n",
       "\n",
       "    .dataframe tbody tr th {\n",
       "        vertical-align: top;\n",
       "    }\n",
       "\n",
       "    .dataframe thead th {\n",
       "        text-align: right;\n",
       "    }\n",
       "</style>\n",
       "<table border=\"1\" class=\"dataframe\">\n",
       "  <thead>\n",
       "    <tr style=\"text-align: right;\">\n",
       "      <th></th>\n",
       "      <th>Product_Number</th>\n",
       "      <th>Country</th>\n",
       "      <th>Date</th>\n",
       "      <th>Verified</th>\n",
       "      <th>Rating_Score</th>\n",
       "      <th>Review_Title</th>\n",
       "      <th>Review_Description</th>\n",
       "      <th>Review_Url</th>\n",
       "      <th>Reviewer_Location</th>\n",
       "      <th>Product_Type</th>\n",
       "      <th>Product_Type_Number</th>\n",
       "      <th>Rating_Category</th>\n",
       "      <th>Numerical_Rating_Category</th>\n",
       "      <th>Review_Words</th>\n",
       "    </tr>\n",
       "  </thead>\n",
       "  <tbody>\n",
       "    <tr>\n",
       "      <th>0</th>\n",
       "      <td>B09G9BL5CP</td>\n",
       "      <td>India</td>\n",
       "      <td>11-08-2024</td>\n",
       "      <td>True</td>\n",
       "      <td>4</td>\n",
       "      <td>No charger</td>\n",
       "      <td>Every thing is good about iPhones, there's not...</td>\n",
       "      <td>https://www.amazon.in/gp/customer-reviews/R345...</td>\n",
       "      <td>Reviewed in India on 11 August 2024</td>\n",
       "      <td>Colour: MidnightSize: 256 GB</td>\n",
       "      <td>B09G9BQS98</td>\n",
       "      <td>High</td>\n",
       "      <td>1</td>\n",
       "      <td>[every, thing, is, good, about, iphones, ,, th...</td>\n",
       "    </tr>\n",
       "    <tr>\n",
       "      <th>1</th>\n",
       "      <td>B09G9BL5CP</td>\n",
       "      <td>India</td>\n",
       "      <td>16-08-2024</td>\n",
       "      <td>True</td>\n",
       "      <td>5</td>\n",
       "      <td>iPhone 13 256GB</td>\n",
       "      <td>It look so fabulous, I am android user switche...</td>\n",
       "      <td>https://www.amazon.in/gp/customer-reviews/R2HJ...</td>\n",
       "      <td>Reviewed in India on 16 August 2024</td>\n",
       "      <td>Colour: MidnightSize: 256 GB</td>\n",
       "      <td>B09G9BQS98</td>\n",
       "      <td>High</td>\n",
       "      <td>1</td>\n",
       "      <td>[it, look, so, fabulous, ,, i, am, android, us...</td>\n",
       "    </tr>\n",
       "    <tr>\n",
       "      <th>2</th>\n",
       "      <td>B09G9BL5CP</td>\n",
       "      <td>India</td>\n",
       "      <td>14-05-2024</td>\n",
       "      <td>True</td>\n",
       "      <td>4</td>\n",
       "      <td>Flip camera option nill</td>\n",
       "      <td>I tried to flip camera while recording but no ...</td>\n",
       "      <td>https://www.amazon.in/gp/customer-reviews/R3Y7...</td>\n",
       "      <td>Reviewed in India on 14 May 2024</td>\n",
       "      <td>Colour: MidnightSize: 256 GB</td>\n",
       "      <td>B09G9BQS98</td>\n",
       "      <td>High</td>\n",
       "      <td>1</td>\n",
       "      <td>[i, tried, to, flip, camera, while, recording,...</td>\n",
       "    </tr>\n",
       "    <tr>\n",
       "      <th>3</th>\n",
       "      <td>B09G9BL5CP</td>\n",
       "      <td>India</td>\n",
       "      <td>24-06-2024</td>\n",
       "      <td>True</td>\n",
       "      <td>5</td>\n",
       "      <td>Product</td>\n",
       "      <td>100% genuine</td>\n",
       "      <td>https://www.amazon.in/gp/customer-reviews/R1P9...</td>\n",
       "      <td>Reviewed in India on 24 June 2024</td>\n",
       "      <td>Colour: MidnightSize: 256 GB</td>\n",
       "      <td>B09G9BQS98</td>\n",
       "      <td>High</td>\n",
       "      <td>1</td>\n",
       "      <td>[100%, genuine]</td>\n",
       "    </tr>\n",
       "    <tr>\n",
       "      <th>4</th>\n",
       "      <td>B09G9BL5CP</td>\n",
       "      <td>India</td>\n",
       "      <td>18-05-2024</td>\n",
       "      <td>True</td>\n",
       "      <td>5</td>\n",
       "      <td>Good product</td>\n",
       "      <td>Happy to get the iPhone 13 in Amazon offer</td>\n",
       "      <td>https://www.amazon.in/gp/customer-reviews/R1XI...</td>\n",
       "      <td>Reviewed in India on 18 May 2024</td>\n",
       "      <td>Colour: MidnightSize: 256 GB</td>\n",
       "      <td>B09G9BQS98</td>\n",
       "      <td>High</td>\n",
       "      <td>1</td>\n",
       "      <td>[happy, to, get, the, iphone, 13, in, amazon, ...</td>\n",
       "    </tr>\n",
       "  </tbody>\n",
       "</table>\n",
       "</div>"
      ],
      "text/plain": [
       "  Product_Number Country        Date  Verified  Rating_Score  \\\n",
       "0     B09G9BL5CP   India  11-08-2024      True             4   \n",
       "1     B09G9BL5CP   India  16-08-2024      True             5   \n",
       "2     B09G9BL5CP   India  14-05-2024      True             4   \n",
       "3     B09G9BL5CP   India  24-06-2024      True             5   \n",
       "4     B09G9BL5CP   India  18-05-2024      True             5   \n",
       "\n",
       "              Review_Title                                 Review_Description  \\\n",
       "0               No charger  Every thing is good about iPhones, there's not...   \n",
       "1          iPhone 13 256GB  It look so fabulous, I am android user switche...   \n",
       "2  Flip camera option nill  I tried to flip camera while recording but no ...   \n",
       "3                  Product                                       100% genuine   \n",
       "4             Good product         Happy to get the iPhone 13 in Amazon offer   \n",
       "\n",
       "                                          Review_Url  \\\n",
       "0  https://www.amazon.in/gp/customer-reviews/R345...   \n",
       "1  https://www.amazon.in/gp/customer-reviews/R2HJ...   \n",
       "2  https://www.amazon.in/gp/customer-reviews/R3Y7...   \n",
       "3  https://www.amazon.in/gp/customer-reviews/R1P9...   \n",
       "4  https://www.amazon.in/gp/customer-reviews/R1XI...   \n",
       "\n",
       "                     Reviewer_Location                  Product_Type  \\\n",
       "0  Reviewed in India on 11 August 2024  Colour: MidnightSize: 256 GB   \n",
       "1  Reviewed in India on 16 August 2024  Colour: MidnightSize: 256 GB   \n",
       "2     Reviewed in India on 14 May 2024  Colour: MidnightSize: 256 GB   \n",
       "3    Reviewed in India on 24 June 2024  Colour: MidnightSize: 256 GB   \n",
       "4     Reviewed in India on 18 May 2024  Colour: MidnightSize: 256 GB   \n",
       "\n",
       "  Product_Type_Number Rating_Category  Numerical_Rating_Category  \\\n",
       "0          B09G9BQS98            High                          1   \n",
       "1          B09G9BQS98            High                          1   \n",
       "2          B09G9BQS98            High                          1   \n",
       "3          B09G9BQS98            High                          1   \n",
       "4          B09G9BQS98            High                          1   \n",
       "\n",
       "                                        Review_Words  \n",
       "0  [every, thing, is, good, about, iphones, ,, th...  \n",
       "1  [it, look, so, fabulous, ,, i, am, android, us...  \n",
       "2  [i, tried, to, flip, camera, while, recording,...  \n",
       "3                                    [100%, genuine]  \n",
       "4  [happy, to, get, the, iphone, 13, in, amazon, ...  "
      ]
     },
     "execution_count": 29,
     "metadata": {},
     "output_type": "execute_result"
    }
   ],
   "source": [
    "reviews.head()"
   ]
  },
  {
   "cell_type": "code",
   "execution_count": 30,
   "id": "c50436d1",
   "metadata": {
    "scrolled": true
   },
   "outputs": [
    {
     "name": "stdout",
     "output_type": "stream",
     "text": [
      "Total Number of reviews: 2976\n",
      "Number of positive reviews: 1994\n",
      "Number of negative reviews: 747\n",
      "Number of neutral reviews: 235\n",
      "\n",
      "Probability of positive review: 0.6700268817204301\n",
      "Probability negative review: 0.25100806451612906\n",
      "Probability of neutral review: 0.07896505376344086\n"
     ]
    }
   ],
   "source": [
    "total_reviews = len(reviews)\n",
    "num_positive = len(reviews[reviews['Numerical_Rating_Category']==1])\n",
    "num_negative = len(reviews[reviews['Numerical_Rating_Category']==2])\n",
    "num_neutral = len(reviews[reviews['Numerical_Rating_Category']==3])\n",
    "\n",
    "print(\"Total Number of reviews:\",total_reviews)\n",
    "print(\"Number of positive reviews:\", num_positive)\n",
    "print(\"Number of negative reviews:\", num_negative)\n",
    "print(\"Number of neutral reviews:\", num_neutral)\n",
    "print()\n",
    "\n",
    "print(\"Probability of positive review:\", num_positive/total_reviews)\n",
    "print(\"Probability negative review:\", num_negative/total_reviews)\n",
    "print(\"Probability of neutral review:\", num_neutral/total_reviews)"
   ]
  },
  {
   "cell_type": "markdown",
   "id": "f32e535f",
   "metadata": {},
   "source": [
    "#### "
   ]
  },
  {
   "cell_type": "markdown",
   "id": "153f857d",
   "metadata": {},
   "source": [
    "### Training the model:"
   ]
  },
  {
   "cell_type": "code",
   "execution_count": 31,
   "id": "06376003",
   "metadata": {},
   "outputs": [],
   "source": [
    "smoothing_factor = 1\n",
    "\n",
    "model = {}\n",
    "\n",
    "# Train the model\n",
    "for index, review in reviews.iterrows():\n",
    "    if isinstance(review['Review_Words'], list):\n",
    "        for word in review['Review_Words']:\n",
    "            if word not in model:\n",
    "                model[word] = {'Positive': smoothing_factor, 'Negative': smoothing_factor, 'Neutral':smoothing_factor}\n",
    "\n",
    "            if word in model:\n",
    "                if review['Numerical_Rating_Category'] == 1:\n",
    "                    model[word]['Positive'] += 1\n",
    "                elif review['Numerical_Rating_Category'] ==2 :\n",
    "                    model[word]['Negative'] += 1\n",
    "                else:\n",
    "                    model[word]['Neutral'] += 1"
   ]
  },
  {
   "cell_type": "code",
   "execution_count": 32,
   "id": "ad33d101",
   "metadata": {},
   "outputs": [
    {
     "data": {
      "text/plain": [
       "{'Positive': 136, 'Negative': 4, 'Neutral': 3}"
      ]
     },
     "execution_count": 32,
     "metadata": {},
     "output_type": "execute_result"
    }
   ],
   "source": [
    "model['amazing']"
   ]
  },
  {
   "cell_type": "code",
   "execution_count": 33,
   "id": "cd103bc9",
   "metadata": {},
   "outputs": [],
   "source": [
    "for word, counts in model.items():\n",
    "    total_count = counts['Positive'] + counts['Negative'] + counts['Neutral']\n",
    "    model[word]['Positive'] /= total_count  # Normalize positive class probability\n",
    "    model[word]['Negative'] /= total_count  # Normalize negative class probability\n",
    "    model[word]['Neutral'] /= total_count   # Normalize neutral class probability"
   ]
  },
  {
   "cell_type": "code",
   "execution_count": 34,
   "id": "e186d6e8",
   "metadata": {},
   "outputs": [],
   "source": [
    "# Class weighting based on the class frequencies\n",
    "positive_weight = num_positive / total_reviews\n",
    "negative_weight = num_negative / total_reviews\n",
    "neutral_weight = num_neutral / total_reviews"
   ]
  },
  {
   "cell_type": "markdown",
   "id": "bb259f59",
   "metadata": {},
   "source": [
    "#### "
   ]
  },
  {
   "cell_type": "markdown",
   "id": "2e39b3e7",
   "metadata": {},
   "source": [
    "### Prediction:"
   ]
  },
  {
   "cell_type": "code",
   "execution_count": 35,
   "id": "8fdbaf86",
   "metadata": {},
   "outputs": [],
   "source": [
    "def predict_customer_sentiment(review_text):\n",
    "    review_words = process_reviews(review_text)\n",
    "    if not review_words:\n",
    "        return \"Neutral\"\n",
    "    \n",
    "    positive_prob = np.log(positive_weight)\n",
    "    negative_prob = np.log(negative_weight)\n",
    "    neutral_prob = np.log(neutral_weight)\n",
    "    \n",
    "    for word in review_words:\n",
    "        if word in model:\n",
    "            positive_prob += np.log(model[word]['Positive'])\n",
    "            negative_prob += np.log(model[word]['Negative'])\n",
    "            neutral_prob += np.log(model[word]['Neutral'])\n",
    "            \n",
    "    if positive_prob > negative_prob and positive_prob > neutral_prob:\n",
    "        return 'Positive'\n",
    "    elif negative_prob > positive_prob and negative_prob > neutral_prob:\n",
    "        return 'Negative'\n",
    "    else:\n",
    "        return 'Neutral'"
   ]
  },
  {
   "cell_type": "markdown",
   "id": "20b57b48",
   "metadata": {},
   "source": [
    "#### "
   ]
  },
  {
   "cell_type": "markdown",
   "id": "23d198c6",
   "metadata": {},
   "source": [
    "### Testing:"
   ]
  },
  {
   "cell_type": "code",
   "execution_count": 36,
   "id": "a70a2997",
   "metadata": {},
   "outputs": [
    {
     "name": "stdout",
     "output_type": "stream",
     "text": [
      "Positive\n"
     ]
    }
   ],
   "source": [
    "testreview1 = \"I absolutely love my new iPhone!\"\n",
    "print(predict_customer_sentiment(testreview1))"
   ]
  },
  {
   "cell_type": "code",
   "execution_count": 37,
   "id": "0dfa2a81",
   "metadata": {},
   "outputs": [
    {
     "name": "stdout",
     "output_type": "stream",
     "text": [
      "Positive\n"
     ]
    }
   ],
   "source": [
    "testreview2 = \"I am extremely disappointed with the iPhone. The battery life is bad.\"\n",
    "print(predict_customer_sentiment(testreview2))"
   ]
  },
  {
   "cell_type": "code",
   "execution_count": 38,
   "id": "9ed684cb",
   "metadata": {},
   "outputs": [
    {
     "data": {
      "text/plain": [
       "'Positive'"
      ]
     },
     "execution_count": 38,
     "metadata": {},
     "output_type": "execute_result"
    }
   ],
   "source": [
    "testreview3 = \"The phone is ok.\"\n",
    "predict_customer_sentiment(testreview3)"
   ]
  },
  {
   "cell_type": "markdown",
   "id": "b8b9a0f6",
   "metadata": {},
   "source": [
    "### "
   ]
  }
 ],
 "metadata": {
  "kernelspec": {
   "display_name": "Python 3 (ipykernel)",
   "language": "python",
   "name": "python3"
  },
  "language_info": {
   "codemirror_mode": {
    "name": "ipython",
    "version": 3
   },
   "file_extension": ".py",
   "mimetype": "text/x-python",
   "name": "python",
   "nbconvert_exporter": "python",
   "pygments_lexer": "ipython3",
   "version": "3.9.7"
  }
 },
 "nbformat": 4,
 "nbformat_minor": 5
}

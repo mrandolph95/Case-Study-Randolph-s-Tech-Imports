{
 "cells": [
  {
   "cell_type": "markdown",
   "id": "949f20a6",
   "metadata": {},
   "source": [
    "# Customer Sentiment Naive Bayes Classifier"
   ]
  },
  {
   "cell_type": "markdown",
   "id": "d981d0c0",
   "metadata": {},
   "source": [
    "Classifier to predict whether a customer review is positive, negative, or neutral."
   ]
  },
  {
   "cell_type": "markdown",
   "id": "50aeaadc",
   "metadata": {},
   "source": [
    "Requirements:\n",
    "\n",
    "    * sckikit-learn\n",
    "    * imbalanced-learn\n",
    "    * pandas\n",
    "    * Numpy\n",
    "    * nltk"
   ]
  },
  {
   "cell_type": "code",
   "execution_count": 77,
   "id": "a968d26d",
   "metadata": {},
   "outputs": [
    {
     "name": "stdout",
     "output_type": "stream",
     "text": [
      "Requirement already satisfied: scikit-learn in /opt/anaconda3/lib/python3.9/site-packages (1.6.1)\n",
      "Requirement already satisfied: numpy>=1.19.5 in /opt/anaconda3/lib/python3.9/site-packages (from scikit-learn) (1.20.3)\n",
      "Requirement already satisfied: threadpoolctl>=3.1.0 in /opt/anaconda3/lib/python3.9/site-packages (from scikit-learn) (3.5.0)\n",
      "Requirement already satisfied: joblib>=1.2.0 in /opt/anaconda3/lib/python3.9/site-packages (from scikit-learn) (1.4.2)\n",
      "Requirement already satisfied: scipy>=1.6.0 in /opt/anaconda3/lib/python3.9/site-packages (from scikit-learn) (1.7.1)\n",
      "Note: you may need to restart the kernel to use updated packages.\n"
     ]
    }
   ],
   "source": [
    "pip install --upgrade scikit-learn"
   ]
  },
  {
   "cell_type": "code",
   "execution_count": 78,
   "id": "b58ab66e",
   "metadata": {},
   "outputs": [
    {
     "name": "stdout",
     "output_type": "stream",
     "text": [
      "Requirement already satisfied: imbalanced-learn in /opt/anaconda3/lib/python3.9/site-packages (0.12.4)\n",
      "Requirement already satisfied: joblib>=1.1.1 in /opt/anaconda3/lib/python3.9/site-packages (from imbalanced-learn) (1.4.2)\n",
      "Requirement already satisfied: numpy>=1.17.3 in /opt/anaconda3/lib/python3.9/site-packages (from imbalanced-learn) (1.20.3)\n",
      "Requirement already satisfied: scikit-learn>=1.0.2 in /opt/anaconda3/lib/python3.9/site-packages (from imbalanced-learn) (1.6.1)\n",
      "Requirement already satisfied: threadpoolctl>=2.0.0 in /opt/anaconda3/lib/python3.9/site-packages (from imbalanced-learn) (3.5.0)\n",
      "Requirement already satisfied: scipy>=1.5.0 in /opt/anaconda3/lib/python3.9/site-packages (from imbalanced-learn) (1.7.1)\n",
      "Note: you may need to restart the kernel to use updated packages.\n"
     ]
    }
   ],
   "source": [
    "pip install --upgrade imbalanced-learn"
   ]
  },
  {
   "cell_type": "code",
   "execution_count": 33,
   "id": "a87dfdbc",
   "metadata": {},
   "outputs": [],
   "source": [
    "import numpy as np\n",
    "import pandas as pd\n",
    "import re\n",
    "from nltk.tokenize import word_tokenize\n",
    "from sklearn.feature_extraction.text import TfidfVectorizer\n",
    "from sklearn.model_selection import train_test_split\n",
    "from sklearn.model_selection import cross_val_score\n",
    "from sklearn.naive_bayes import MultinomialNB\n",
    "from sklearn.metrics import classification_report\n",
    "from sklearn.metrics import confusion_matrix\n",
    "from imblearn.over_sampling import SMOTE\n",
    "from imblearn.pipeline import make_pipeline\n",
    "import seaborn as sns\n",
    "import matplotlib.pyplot as plt"
   ]
  },
  {
   "cell_type": "code",
   "execution_count": 34,
   "id": "ac4e6355",
   "metadata": {},
   "outputs": [
    {
     "data": {
      "text/html": [
       "<div>\n",
       "<style scoped>\n",
       "    .dataframe tbody tr th:only-of-type {\n",
       "        vertical-align: middle;\n",
       "    }\n",
       "\n",
       "    .dataframe tbody tr th {\n",
       "        vertical-align: top;\n",
       "    }\n",
       "\n",
       "    .dataframe thead th {\n",
       "        text-align: right;\n",
       "    }\n",
       "</style>\n",
       "<table border=\"1\" class=\"dataframe\">\n",
       "  <thead>\n",
       "    <tr style=\"text-align: right;\">\n",
       "      <th></th>\n",
       "      <th>productAsin</th>\n",
       "      <th>country</th>\n",
       "      <th>date</th>\n",
       "      <th>isVerified</th>\n",
       "      <th>ratingScore</th>\n",
       "      <th>reviewTitle</th>\n",
       "      <th>reviewDescription</th>\n",
       "      <th>reviewUrl</th>\n",
       "      <th>reviewedIn</th>\n",
       "      <th>variant</th>\n",
       "      <th>variantAsin</th>\n",
       "    </tr>\n",
       "  </thead>\n",
       "  <tbody>\n",
       "    <tr>\n",
       "      <th>0</th>\n",
       "      <td>B09G9BL5CP</td>\n",
       "      <td>India</td>\n",
       "      <td>11-08-2024</td>\n",
       "      <td>True</td>\n",
       "      <td>4</td>\n",
       "      <td>No charger</td>\n",
       "      <td>Every thing is good about iPhones, there's not...</td>\n",
       "      <td>https://www.amazon.in/gp/customer-reviews/R345...</td>\n",
       "      <td>Reviewed in India on 11 August 2024</td>\n",
       "      <td>Colour: MidnightSize: 256 GB</td>\n",
       "      <td>B09G9BQS98</td>\n",
       "    </tr>\n",
       "    <tr>\n",
       "      <th>1</th>\n",
       "      <td>B09G9BL5CP</td>\n",
       "      <td>India</td>\n",
       "      <td>16-08-2024</td>\n",
       "      <td>True</td>\n",
       "      <td>5</td>\n",
       "      <td>iPhone 13 256GB</td>\n",
       "      <td>It look so fabulous, I am android user switche...</td>\n",
       "      <td>https://www.amazon.in/gp/customer-reviews/R2HJ...</td>\n",
       "      <td>Reviewed in India on 16 August 2024</td>\n",
       "      <td>Colour: MidnightSize: 256 GB</td>\n",
       "      <td>B09G9BQS98</td>\n",
       "    </tr>\n",
       "    <tr>\n",
       "      <th>2</th>\n",
       "      <td>B09G9BL5CP</td>\n",
       "      <td>India</td>\n",
       "      <td>14-05-2024</td>\n",
       "      <td>True</td>\n",
       "      <td>4</td>\n",
       "      <td>Flip camera option nill</td>\n",
       "      <td>I tried to flip camera while recording but no ...</td>\n",
       "      <td>https://www.amazon.in/gp/customer-reviews/R3Y7...</td>\n",
       "      <td>Reviewed in India on 14 May 2024</td>\n",
       "      <td>Colour: MidnightSize: 256 GB</td>\n",
       "      <td>B09G9BQS98</td>\n",
       "    </tr>\n",
       "    <tr>\n",
       "      <th>3</th>\n",
       "      <td>B09G9BL5CP</td>\n",
       "      <td>India</td>\n",
       "      <td>24-06-2024</td>\n",
       "      <td>True</td>\n",
       "      <td>5</td>\n",
       "      <td>Product</td>\n",
       "      <td>100% genuine</td>\n",
       "      <td>https://www.amazon.in/gp/customer-reviews/R1P9...</td>\n",
       "      <td>Reviewed in India on 24 June 2024</td>\n",
       "      <td>Colour: MidnightSize: 256 GB</td>\n",
       "      <td>B09G9BQS98</td>\n",
       "    </tr>\n",
       "    <tr>\n",
       "      <th>4</th>\n",
       "      <td>B09G9BL5CP</td>\n",
       "      <td>India</td>\n",
       "      <td>18-05-2024</td>\n",
       "      <td>True</td>\n",
       "      <td>5</td>\n",
       "      <td>Good product</td>\n",
       "      <td>Happy to get the iPhone 13 in Amazon offer</td>\n",
       "      <td>https://www.amazon.in/gp/customer-reviews/R1XI...</td>\n",
       "      <td>Reviewed in India on 18 May 2024</td>\n",
       "      <td>Colour: MidnightSize: 256 GB</td>\n",
       "      <td>B09G9BQS98</td>\n",
       "    </tr>\n",
       "  </tbody>\n",
       "</table>\n",
       "</div>"
      ],
      "text/plain": [
       "  productAsin country        date  isVerified  ratingScore  \\\n",
       "0  B09G9BL5CP   India  11-08-2024        True            4   \n",
       "1  B09G9BL5CP   India  16-08-2024        True            5   \n",
       "2  B09G9BL5CP   India  14-05-2024        True            4   \n",
       "3  B09G9BL5CP   India  24-06-2024        True            5   \n",
       "4  B09G9BL5CP   India  18-05-2024        True            5   \n",
       "\n",
       "               reviewTitle                                  reviewDescription  \\\n",
       "0               No charger  Every thing is good about iPhones, there's not...   \n",
       "1          iPhone 13 256GB  It look so fabulous, I am android user switche...   \n",
       "2  Flip camera option nill  I tried to flip camera while recording but no ...   \n",
       "3                  Product                                       100% genuine   \n",
       "4             Good product         Happy to get the iPhone 13 in Amazon offer   \n",
       "\n",
       "                                           reviewUrl  \\\n",
       "0  https://www.amazon.in/gp/customer-reviews/R345...   \n",
       "1  https://www.amazon.in/gp/customer-reviews/R2HJ...   \n",
       "2  https://www.amazon.in/gp/customer-reviews/R3Y7...   \n",
       "3  https://www.amazon.in/gp/customer-reviews/R1P9...   \n",
       "4  https://www.amazon.in/gp/customer-reviews/R1XI...   \n",
       "\n",
       "                            reviewedIn                       variant  \\\n",
       "0  Reviewed in India on 11 August 2024  Colour: MidnightSize: 256 GB   \n",
       "1  Reviewed in India on 16 August 2024  Colour: MidnightSize: 256 GB   \n",
       "2     Reviewed in India on 14 May 2024  Colour: MidnightSize: 256 GB   \n",
       "3    Reviewed in India on 24 June 2024  Colour: MidnightSize: 256 GB   \n",
       "4     Reviewed in India on 18 May 2024  Colour: MidnightSize: 256 GB   \n",
       "\n",
       "  variantAsin  \n",
       "0  B09G9BQS98  \n",
       "1  B09G9BQS98  \n",
       "2  B09G9BQS98  \n",
       "3  B09G9BQS98  \n",
       "4  B09G9BQS98  "
      ]
     },
     "execution_count": 34,
     "metadata": {},
     "output_type": "execute_result"
    }
   ],
   "source": [
    "reviews = pd.read_csv('iphone.csv')\n",
    "reviews.head()"
   ]
  },
  {
   "cell_type": "markdown",
   "id": "b976381d",
   "metadata": {},
   "source": [
    "The following cleans and prepares the data:"
   ]
  },
  {
   "cell_type": "code",
   "execution_count": 35,
   "id": "a00a9dd6",
   "metadata": {},
   "outputs": [],
   "source": [
    "column_name_mapping = {'productAsin':'Product_Number','country':'Country','date':'Date',\n",
    "                       'isVerified':'Verified','ratingScore':'Rating_Score','reviewTitle':'Review_Title',\n",
    "                       'reviewDescription':'Review_Description','reviewUrl':'Review_Url',\n",
    "                       'reviewedIn':'Reviewer_Location','variant':'Product_Type','variantAsin':'Product_Type_Number'}\n",
    "\n",
    "reviews.rename(columns=column_name_mapping, inplace=True)"
   ]
  },
  {
   "cell_type": "code",
   "execution_count": 36,
   "id": "9caa74b3",
   "metadata": {},
   "outputs": [],
   "source": [
    "emojis = (r'[\\U0001F600-\\U0001F64F' \n",
    "        r'\\U0001F300-\\U0001F5FF'  \n",
    "        r'\\U0001F680-\\U0001F6FF'  \n",
    "        r'\\U0001F700-\\U0001F77F'  \n",
    "        r'\\U0001F780-\\U0001F7FF'  \n",
    "        r'\\U0001F800-\\U0001F8FF'  \n",
    "        r'\\U0001F900-\\U0001F9FF'  \n",
    "        r'\\U0001FA00-\\U0001FA6F'  \n",
    "        r'\\U0001FA70-\\U0001FAFF'  \n",
    "        r'\\U00002764\\ufe0f'  \n",
    "        r']+')\n",
    "\n",
    "# Removes emoji characters from Review_Description column\n",
    "reviews['Review_Description'] = reviews['Review_Description'].apply(lambda x: re.sub(emojis, '', str(x)) if isinstance(x, str) else x)\n",
    "\n",
    "# Asigns rating score a category of High, Low, and Neutral\n",
    "reviews['Rating_Category'] = np.where(reviews['Rating_Score'] >= 4, 'High', np.where(reviews['Rating_Score'] <=2, 'Low', 'Neutral'))"
   ]
  },
  {
   "cell_type": "code",
   "execution_count": 37,
   "id": "5001490b",
   "metadata": {},
   "outputs": [],
   "source": [
    "# Asigns rating category a number\n",
    "rating_mapping = {'High':1,'Low':2,'Neutral':3}\n",
    "reviews['Numerical_Rating_Category'] = reviews['Rating_Category'].map(rating_mapping)"
   ]
  },
  {
   "cell_type": "code",
   "execution_count": 38,
   "id": "3ac066ca",
   "metadata": {},
   "outputs": [
    {
     "data": {
      "text/html": [
       "<div>\n",
       "<style scoped>\n",
       "    .dataframe tbody tr th:only-of-type {\n",
       "        vertical-align: middle;\n",
       "    }\n",
       "\n",
       "    .dataframe tbody tr th {\n",
       "        vertical-align: top;\n",
       "    }\n",
       "\n",
       "    .dataframe thead th {\n",
       "        text-align: right;\n",
       "    }\n",
       "</style>\n",
       "<table border=\"1\" class=\"dataframe\">\n",
       "  <thead>\n",
       "    <tr style=\"text-align: right;\">\n",
       "      <th></th>\n",
       "      <th>Product_Number</th>\n",
       "      <th>Country</th>\n",
       "      <th>Date</th>\n",
       "      <th>Verified</th>\n",
       "      <th>Rating_Score</th>\n",
       "      <th>Review_Title</th>\n",
       "      <th>Review_Description</th>\n",
       "      <th>Review_Url</th>\n",
       "      <th>Reviewer_Location</th>\n",
       "      <th>Product_Type</th>\n",
       "      <th>Product_Type_Number</th>\n",
       "      <th>Rating_Category</th>\n",
       "      <th>Numerical_Rating_Category</th>\n",
       "    </tr>\n",
       "  </thead>\n",
       "  <tbody>\n",
       "    <tr>\n",
       "      <th>0</th>\n",
       "      <td>B09G9BL5CP</td>\n",
       "      <td>India</td>\n",
       "      <td>11-08-2024</td>\n",
       "      <td>True</td>\n",
       "      <td>4</td>\n",
       "      <td>No charger</td>\n",
       "      <td>Every thing is good about iPhones, there's not...</td>\n",
       "      <td>https://www.amazon.in/gp/customer-reviews/R345...</td>\n",
       "      <td>Reviewed in India on 11 August 2024</td>\n",
       "      <td>Colour: MidnightSize: 256 GB</td>\n",
       "      <td>B09G9BQS98</td>\n",
       "      <td>High</td>\n",
       "      <td>1</td>\n",
       "    </tr>\n",
       "    <tr>\n",
       "      <th>1</th>\n",
       "      <td>B09G9BL5CP</td>\n",
       "      <td>India</td>\n",
       "      <td>16-08-2024</td>\n",
       "      <td>True</td>\n",
       "      <td>5</td>\n",
       "      <td>iPhone 13 256GB</td>\n",
       "      <td>It look so fabulous, I am android user switche...</td>\n",
       "      <td>https://www.amazon.in/gp/customer-reviews/R2HJ...</td>\n",
       "      <td>Reviewed in India on 16 August 2024</td>\n",
       "      <td>Colour: MidnightSize: 256 GB</td>\n",
       "      <td>B09G9BQS98</td>\n",
       "      <td>High</td>\n",
       "      <td>1</td>\n",
       "    </tr>\n",
       "    <tr>\n",
       "      <th>2</th>\n",
       "      <td>B09G9BL5CP</td>\n",
       "      <td>India</td>\n",
       "      <td>14-05-2024</td>\n",
       "      <td>True</td>\n",
       "      <td>4</td>\n",
       "      <td>Flip camera option nill</td>\n",
       "      <td>I tried to flip camera while recording but no ...</td>\n",
       "      <td>https://www.amazon.in/gp/customer-reviews/R3Y7...</td>\n",
       "      <td>Reviewed in India on 14 May 2024</td>\n",
       "      <td>Colour: MidnightSize: 256 GB</td>\n",
       "      <td>B09G9BQS98</td>\n",
       "      <td>High</td>\n",
       "      <td>1</td>\n",
       "    </tr>\n",
       "    <tr>\n",
       "      <th>3</th>\n",
       "      <td>B09G9BL5CP</td>\n",
       "      <td>India</td>\n",
       "      <td>24-06-2024</td>\n",
       "      <td>True</td>\n",
       "      <td>5</td>\n",
       "      <td>Product</td>\n",
       "      <td>100% genuine</td>\n",
       "      <td>https://www.amazon.in/gp/customer-reviews/R1P9...</td>\n",
       "      <td>Reviewed in India on 24 June 2024</td>\n",
       "      <td>Colour: MidnightSize: 256 GB</td>\n",
       "      <td>B09G9BQS98</td>\n",
       "      <td>High</td>\n",
       "      <td>1</td>\n",
       "    </tr>\n",
       "    <tr>\n",
       "      <th>4</th>\n",
       "      <td>B09G9BL5CP</td>\n",
       "      <td>India</td>\n",
       "      <td>18-05-2024</td>\n",
       "      <td>True</td>\n",
       "      <td>5</td>\n",
       "      <td>Good product</td>\n",
       "      <td>Happy to get the iPhone 13 in Amazon offer</td>\n",
       "      <td>https://www.amazon.in/gp/customer-reviews/R1XI...</td>\n",
       "      <td>Reviewed in India on 18 May 2024</td>\n",
       "      <td>Colour: MidnightSize: 256 GB</td>\n",
       "      <td>B09G9BQS98</td>\n",
       "      <td>High</td>\n",
       "      <td>1</td>\n",
       "    </tr>\n",
       "  </tbody>\n",
       "</table>\n",
       "</div>"
      ],
      "text/plain": [
       "  Product_Number Country        Date  Verified  Rating_Score  \\\n",
       "0     B09G9BL5CP   India  11-08-2024      True             4   \n",
       "1     B09G9BL5CP   India  16-08-2024      True             5   \n",
       "2     B09G9BL5CP   India  14-05-2024      True             4   \n",
       "3     B09G9BL5CP   India  24-06-2024      True             5   \n",
       "4     B09G9BL5CP   India  18-05-2024      True             5   \n",
       "\n",
       "              Review_Title                                 Review_Description  \\\n",
       "0               No charger  Every thing is good about iPhones, there's not...   \n",
       "1          iPhone 13 256GB  It look so fabulous, I am android user switche...   \n",
       "2  Flip camera option nill  I tried to flip camera while recording but no ...   \n",
       "3                  Product                                       100% genuine   \n",
       "4             Good product         Happy to get the iPhone 13 in Amazon offer   \n",
       "\n",
       "                                          Review_Url  \\\n",
       "0  https://www.amazon.in/gp/customer-reviews/R345...   \n",
       "1  https://www.amazon.in/gp/customer-reviews/R2HJ...   \n",
       "2  https://www.amazon.in/gp/customer-reviews/R3Y7...   \n",
       "3  https://www.amazon.in/gp/customer-reviews/R1P9...   \n",
       "4  https://www.amazon.in/gp/customer-reviews/R1XI...   \n",
       "\n",
       "                     Reviewer_Location                  Product_Type  \\\n",
       "0  Reviewed in India on 11 August 2024  Colour: MidnightSize: 256 GB   \n",
       "1  Reviewed in India on 16 August 2024  Colour: MidnightSize: 256 GB   \n",
       "2     Reviewed in India on 14 May 2024  Colour: MidnightSize: 256 GB   \n",
       "3    Reviewed in India on 24 June 2024  Colour: MidnightSize: 256 GB   \n",
       "4     Reviewed in India on 18 May 2024  Colour: MidnightSize: 256 GB   \n",
       "\n",
       "  Product_Type_Number Rating_Category  Numerical_Rating_Category  \n",
       "0          B09G9BQS98            High                          1  \n",
       "1          B09G9BQS98            High                          1  \n",
       "2          B09G9BQS98            High                          1  \n",
       "3          B09G9BQS98            High                          1  \n",
       "4          B09G9BQS98            High                          1  "
      ]
     },
     "execution_count": 38,
     "metadata": {},
     "output_type": "execute_result"
    }
   ],
   "source": [
    "reviews.head()"
   ]
  },
  {
   "cell_type": "code",
   "execution_count": 39,
   "id": "86213510",
   "metadata": {},
   "outputs": [],
   "source": [
    "vectorizer = TfidfVectorizer(stop_words='english', lowercase=True, ngram_range=(1,2))\n",
    "\n",
    "reviews = reviews.dropna(subset=['Review_Description']) # Remove rows with missing values in Review_Description\n",
    "\n",
    "X = vectorizer.fit_transform(reviews['Review_Description'])\n",
    "\n",
    "y = reviews['Numerical_Rating_Category']\n",
    "\n",
    "X_train, X_test, y_train, y_test = train_test_split(X, y, test_size=0.3, random_state=42) "
   ]
  },
  {
   "cell_type": "code",
   "execution_count": 40,
   "id": "ebc7acf5",
   "metadata": {},
   "outputs": [
    {
     "name": "stderr",
     "output_type": "stream",
     "text": [
      "/opt/anaconda3/lib/python3.9/site-packages/sklearn/base.py:474: FutureWarning: `BaseEstimator._validate_data` is deprecated in 1.6 and will be removed in 1.7. Use `sklearn.utils.validation.validate_data` instead. This function becomes public and is part of the scikit-learn developer API.\n",
      "  warnings.warn(\n",
      "/opt/anaconda3/lib/python3.9/site-packages/sklearn/base.py:474: FutureWarning: `BaseEstimator._validate_data` is deprecated in 1.6 and will be removed in 1.7. Use `sklearn.utils.validation.validate_data` instead. This function becomes public and is part of the scikit-learn developer API.\n",
      "  warnings.warn(\n",
      "/opt/anaconda3/lib/python3.9/site-packages/sklearn/base.py:474: FutureWarning: `BaseEstimator._validate_data` is deprecated in 1.6 and will be removed in 1.7. Use `sklearn.utils.validation.validate_data` instead. This function becomes public and is part of the scikit-learn developer API.\n",
      "  warnings.warn(\n",
      "/opt/anaconda3/lib/python3.9/site-packages/sklearn/base.py:474: FutureWarning: `BaseEstimator._validate_data` is deprecated in 1.6 and will be removed in 1.7. Use `sklearn.utils.validation.validate_data` instead. This function becomes public and is part of the scikit-learn developer API.\n",
      "  warnings.warn(\n",
      "/opt/anaconda3/lib/python3.9/site-packages/sklearn/base.py:474: FutureWarning: `BaseEstimator._validate_data` is deprecated in 1.6 and will be removed in 1.7. Use `sklearn.utils.validation.validate_data` instead. This function becomes public and is part of the scikit-learn developer API.\n",
      "  warnings.warn(\n"
     ]
    }
   ],
   "source": [
    "cv_scores = cross_val_score(model, X_train, y_train, cv=5, scoring='accuracy')"
   ]
  },
  {
   "cell_type": "code",
   "execution_count": 42,
   "id": "d2b51e21",
   "metadata": {},
   "outputs": [
    {
     "name": "stdout",
     "output_type": "stream",
     "text": [
      "Cross-validation scores: [0.73860911 0.72422062 0.70983213 0.70673077 0.69711538]\n",
      "Average cross-validation score: 0.7153016048699501\n"
     ]
    }
   ],
   "source": [
    "print(f\"Cross-validation scores: {cv_scores}\")\n",
    "print(f\"Average cross-validation score: {cv_scores.mean()}\")"
   ]
  },
  {
   "cell_type": "markdown",
   "id": "93dda306",
   "metadata": {},
   "source": [
    "The distribution of positive, negative, and neutral reviews:"
   ]
  },
  {
   "cell_type": "code",
   "execution_count": 43,
   "id": "c0fd9629",
   "metadata": {},
   "outputs": [
    {
     "name": "stdout",
     "output_type": "stream",
     "text": [
      "Number of reviews: 2976\n",
      "Number of positive reviews: 1994\n",
      "Number of negative reviews: 747\n",
      "Number of neutral reviews: 235\n",
      "\n",
      "Probability of positive review: 0.6700268817204301\n",
      "Probability negative review: 0.25100806451612906\n",
      "Probability of neutral review: 0.07896505376344086\n"
     ]
    }
   ],
   "source": [
    "num_reviews = len(reviews)\n",
    "num_positive = len(reviews[reviews['Numerical_Rating_Category']==1])\n",
    "num_negative = len(reviews[reviews['Numerical_Rating_Category']==2])\n",
    "num_neutral = len(reviews[reviews['Numerical_Rating_Category']==3])\n",
    "\n",
    "print(\"Number of reviews:\",num_reviews)\n",
    "print(\"Number of positive reviews:\", num_positive)\n",
    "print(\"Number of negative reviews:\", num_negative)\n",
    "print(\"Number of neutral reviews:\", num_neutral)\n",
    "print()\n",
    "\n",
    "print(\"Probability of positive review:\", num_positive/num_reviews)\n",
    "print(\"Probability negative review:\", num_negative/num_reviews)\n",
    "print(\"Probability of neutral review:\", num_neutral/num_reviews)"
   ]
  },
  {
   "cell_type": "markdown",
   "id": "e9215f0a",
   "metadata": {},
   "source": [
    "The following trains the model:"
   ]
  },
  {
   "cell_type": "code",
   "execution_count": 44,
   "id": "586b655b",
   "metadata": {},
   "outputs": [],
   "source": [
    "model = make_pipeline(SMOTE(sampling_strategy='auto', random_state=42),  # SMOTE oversampling\n",
    "    MultinomialNB(class_prior=[0.33,0.33,0.34])  # Classifier\n",
    ")"
   ]
  },
  {
   "cell_type": "code",
   "execution_count": 45,
   "id": "1fa8e333",
   "metadata": {},
   "outputs": [
    {
     "name": "stdout",
     "output_type": "stream",
     "text": [
      "Average accuracy: 0.72\n"
     ]
    }
   ],
   "source": [
    "print(f'Average accuracy: {cv_scores.mean():.2f}')"
   ]
  },
  {
   "cell_type": "code",
   "execution_count": 46,
   "id": "1064cc62",
   "metadata": {},
   "outputs": [
    {
     "name": "stdout",
     "output_type": "stream",
     "text": [
      "              precision    recall  f1-score   support\n",
      "\n",
      "           1       0.90      0.81      0.85       602\n",
      "           2       0.76      0.68      0.72       222\n",
      "           3       0.24      0.52      0.32        69\n",
      "\n",
      "    accuracy                           0.76       893\n",
      "   macro avg       0.63      0.67      0.63       893\n",
      "weighted avg       0.82      0.76      0.78       893\n",
      "\n"
     ]
    },
    {
     "name": "stderr",
     "output_type": "stream",
     "text": [
      "/opt/anaconda3/lib/python3.9/site-packages/sklearn/base.py:474: FutureWarning: `BaseEstimator._validate_data` is deprecated in 1.6 and will be removed in 1.7. Use `sklearn.utils.validation.validate_data` instead. This function becomes public and is part of the scikit-learn developer API.\n",
      "  warnings.warn(\n"
     ]
    }
   ],
   "source": [
    "model.fit(X_train, y_train)\n",
    "y_pred = model.predict(X_test)\n",
    "print(classification_report(y_test, y_pred))"
   ]
  },
  {
   "cell_type": "markdown",
   "id": "5c2d1eb0",
   "metadata": {},
   "source": [
    "Prediction:"
   ]
  },
  {
   "cell_type": "code",
   "execution_count": 47,
   "id": "f3eeb7a8",
   "metadata": {},
   "outputs": [],
   "source": [
    "def predict_customer_sentiment(review_text):\n",
    "    review_tfidf = vectorizer.transform([review_text])\n",
    "    \n",
    "    sentiment_labels = {1:'Positive', 2:'Negative', 3:'Neutral'}\n",
    "    \n",
    "    sentiment = model.predict(review_tfidf.reshape(1,-1))\n",
    "    \n",
    "    sentiment = sentiment[0]\n",
    "    \n",
    "    return sentiment_labels[sentiment]"
   ]
  },
  {
   "cell_type": "markdown",
   "id": "5ad00f38",
   "metadata": {},
   "source": [
    "Testing:"
   ]
  },
  {
   "cell_type": "code",
   "execution_count": 49,
   "id": "95df0dc9",
   "metadata": {},
   "outputs": [],
   "source": [
    "testreview1 = \"I absolutely love my new iPhone!\""
   ]
  },
  {
   "cell_type": "code",
   "execution_count": 50,
   "id": "36fff675",
   "metadata": {},
   "outputs": [
    {
     "name": "stdout",
     "output_type": "stream",
     "text": [
      "Positive\n"
     ]
    }
   ],
   "source": [
    "print(predict_customer_sentiment(testreview1))"
   ]
  },
  {
   "cell_type": "code",
   "execution_count": 51,
   "id": "48357927",
   "metadata": {},
   "outputs": [],
   "source": [
    "testreview2 = \"I am extremely disappointed with the iPhone. The battery life is bad.\""
   ]
  },
  {
   "cell_type": "code",
   "execution_count": 52,
   "id": "0f94ed41",
   "metadata": {},
   "outputs": [
    {
     "name": "stdout",
     "output_type": "stream",
     "text": [
      "Neutral\n"
     ]
    }
   ],
   "source": [
    "print(predict_customer_sentiment(testreview2))"
   ]
  },
  {
   "cell_type": "code",
   "execution_count": 53,
   "id": "316c8824",
   "metadata": {},
   "outputs": [],
   "source": [
    "testreview3 = \"The phone is ok.\""
   ]
  },
  {
   "cell_type": "code",
   "execution_count": 54,
   "id": "25a0d11c",
   "metadata": {},
   "outputs": [
    {
     "data": {
      "text/plain": [
       "'Negative'"
      ]
     },
     "execution_count": 54,
     "metadata": {},
     "output_type": "execute_result"
    }
   ],
   "source": [
    "predict_customer_sentiment(testreview3)"
   ]
  },
  {
   "cell_type": "code",
   "execution_count": 56,
   "id": "c24c17b1",
   "metadata": {},
   "outputs": [
    {
     "data": {
      "image/png": "[encoded data removed]",
      "text/plain": [
       "<Figure size 432x288 with 2 Axes>"
      ]
     },
     "metadata": {
      "needs_background": "light"
     },
     "output_type": "display_data"
    }
   ],
   "source": [
    "cm = confusion_matrix(y_test, y_pred)\n",
    "sns.heatmap(cm, annot=True, fmt='d', cmap='Blues', xticklabels=['Negative', 'Neutral', 'Positive'], yticklabels=['Negative', 'Neutral', 'Positive'])\n",
    "plt.xlabel('Predicted')\n",
    "plt.ylabel('True')\n",
    "plt.show()"
   ]
  },
  {
   "cell_type": "code",
   "execution_count": null,
   "id": "23547f8a",
   "metadata": {},
   "outputs": [],
   "source": []
  }
 ],
 "metadata": {
  "kernelspec": {
   "display_name": "Python 3 (ipykernel)",
   "language": "python",
   "name": "python3"
  },
  "language_info": {
   "codemirror_mode": {
    "name": "ipython",
    "version": 3
   },
   "file_extension": ".py",
   "mimetype": "text/x-python",
   "name": "python",
   "nbconvert_exporter": "python",
   "pygments_lexer": "ipython3",
   "version": "3.9.7"
  }
 },
 "nbformat": 4,
 "nbformat_minor": 5
}

{
 "cells": [
  {
   "cell_type": "markdown",
   "id": "949f20a6",
   "metadata": {},
   "source": [
    "# Customer Sentiment Using TensorFlow"
   ]
  },
  {
   "cell_type": "markdown",
   "id": "d981d0c0",
   "metadata": {},
   "source": [
    "Modification of Customer Sentiment Reviews_Model 2 to TensorFlow model."
   ]
  },
  {
   "cell_type": "markdown",
   "id": "50aeaadc",
   "metadata": {},
   "source": [
    "Requirements:\n",
    "\n",
    "    * tensorflow\n",
    "    * sckikit-learn\n",
    "    * pandas\n",
    "    * Numpy (v 1.23)\n",
    "    * nltk\n",
    "    * re\n",
    "    * seaborn\n",
    "    * matplotlib"
   ]
  },
  {
   "cell_type": "code",
   "execution_count": 21,
   "id": "a968d26d",
   "metadata": {},
   "outputs": [
    {
     "name": "stdout",
     "output_type": "stream",
     "text": [
      "Requirement already satisfied: tensorflow in /opt/anaconda3/lib/python3.9/site-packages (2.16.2)\n",
      "Requirement already satisfied: absl-py>=1.0.0 in /opt/anaconda3/lib/python3.9/site-packages (from tensorflow) (2.1.0)\n",
      "Requirement already satisfied: astunparse>=1.6.0 in /opt/anaconda3/lib/python3.9/site-packages (from tensorflow) (1.6.3)\n",
      "Requirement already satisfied: flatbuffers>=23.5.26 in /opt/anaconda3/lib/python3.9/site-packages (from tensorflow) (25.1.24)\n",
      "Requirement already satisfied: gast!=0.5.0,!=0.5.1,!=0.5.2,>=0.2.1 in /opt/anaconda3/lib/python3.9/site-packages (from tensorflow) (0.6.0)\n",
      "Requirement already satisfied: google-pasta>=0.1.1 in /opt/anaconda3/lib/python3.9/site-packages (from tensorflow) (0.2.0)\n",
      "Requirement already satisfied: h5py>=3.10.0 in /opt/anaconda3/lib/python3.9/site-packages (from tensorflow) (3.12.1)\n",
      "Requirement already satisfied: libclang>=13.0.0 in /opt/anaconda3/lib/python3.9/site-packages (from tensorflow) (18.1.1)\n",
      "Requirement already satisfied: ml-dtypes~=0.3.1 in /opt/anaconda3/lib/python3.9/site-packages (from tensorflow) (0.3.2)\n",
      "Requirement already satisfied: opt-einsum>=2.3.2 in /opt/anaconda3/lib/python3.9/site-packages (from tensorflow) (3.4.0)\n",
      "Requirement already satisfied: packaging in /opt/anaconda3/lib/python3.9/site-packages (from tensorflow) (21.0)\n",
      "Requirement already satisfied: protobuf!=4.21.0,!=4.21.1,!=4.21.2,!=4.21.3,!=4.21.4,!=4.21.5,<5.0.0dev,>=3.20.3 in /opt/anaconda3/lib/python3.9/site-packages (from tensorflow) (4.25.6)\n",
      "Requirement already satisfied: requests<3,>=2.21.0 in /opt/anaconda3/lib/python3.9/site-packages (from tensorflow) (2.26.0)\n",
      "Requirement already satisfied: setuptools in /opt/anaconda3/lib/python3.9/site-packages (from tensorflow) (75.8.0)\n",
      "Requirement already satisfied: six>=1.12.0 in /opt/anaconda3/lib/python3.9/site-packages (from tensorflow) (1.16.0)\n",
      "Requirement already satisfied: termcolor>=1.1.0 in /opt/anaconda3/lib/python3.9/site-packages (from tensorflow) (2.5.0)\n",
      "Requirement already satisfied: typing-extensions>=3.6.6 in /opt/anaconda3/lib/python3.9/site-packages (from tensorflow) (4.12.2)\n",
      "Requirement already satisfied: wrapt>=1.11.0 in /opt/anaconda3/lib/python3.9/site-packages (from tensorflow) (1.12.1)\n",
      "Requirement already satisfied: grpcio<2.0,>=1.24.3 in /opt/anaconda3/lib/python3.9/site-packages (from tensorflow) (1.70.0)\n",
      "Requirement already satisfied: tensorboard<2.17,>=2.16 in /opt/anaconda3/lib/python3.9/site-packages (from tensorflow) (2.16.2)\n",
      "Requirement already satisfied: keras>=3.0.0 in /opt/anaconda3/lib/python3.9/site-packages (from tensorflow) (3.8.0)\n",
      "Requirement already satisfied: tensorflow-io-gcs-filesystem>=0.23.1 in /opt/anaconda3/lib/python3.9/site-packages (from tensorflow) (0.37.1)\n",
      "Requirement already satisfied: numpy<2.0.0,>=1.23.5 in /opt/anaconda3/lib/python3.9/site-packages (from tensorflow) (1.23.5)\n",
      "Requirement already satisfied: wheel<1.0,>=0.23.0 in /opt/anaconda3/lib/python3.9/site-packages (from astunparse>=1.6.0->tensorflow) (0.45.1)\n",
      "Requirement already satisfied: rich in /opt/anaconda3/lib/python3.9/site-packages (from keras>=3.0.0->tensorflow) (13.9.4)\n",
      "Requirement already satisfied: namex in /opt/anaconda3/lib/python3.9/site-packages (from keras>=3.0.0->tensorflow) (0.0.8)\n",
      "Requirement already satisfied: optree in /opt/anaconda3/lib/python3.9/site-packages (from keras>=3.0.0->tensorflow) (0.14.0)\n",
      "Requirement already satisfied: urllib3<1.27,>=1.21.1 in /opt/anaconda3/lib/python3.9/site-packages (from requests<3,>=2.21.0->tensorflow) (1.26.7)\n",
      "Requirement already satisfied: certifi>=2017.4.17 in /opt/anaconda3/lib/python3.9/site-packages (from requests<3,>=2.21.0->tensorflow) (2025.1.31)\n",
      "Requirement already satisfied: charset-normalizer~=2.0.0 in /opt/anaconda3/lib/python3.9/site-packages (from requests<3,>=2.21.0->tensorflow) (2.0.4)\n",
      "Requirement already satisfied: idna<4,>=2.5 in /opt/anaconda3/lib/python3.9/site-packages (from requests<3,>=2.21.0->tensorflow) (3.2)\n",
      "Requirement already satisfied: markdown>=2.6.8 in /opt/anaconda3/lib/python3.9/site-packages (from tensorboard<2.17,>=2.16->tensorflow) (3.7)\n",
      "Requirement already satisfied: tensorboard-data-server<0.8.0,>=0.7.0 in /opt/anaconda3/lib/python3.9/site-packages (from tensorboard<2.17,>=2.16->tensorflow) (0.7.2)\n",
      "Requirement already satisfied: werkzeug>=1.0.1 in /opt/anaconda3/lib/python3.9/site-packages (from tensorboard<2.17,>=2.16->tensorflow) (2.0.2)\n",
      "Requirement already satisfied: pyparsing>=2.0.2 in /opt/anaconda3/lib/python3.9/site-packages (from packaging->tensorflow) (3.0.4)\n",
      "Requirement already satisfied: importlib-metadata>=4.4 in /opt/anaconda3/lib/python3.9/site-packages (from markdown>=2.6.8->tensorboard<2.17,>=2.16->tensorflow) (4.8.1)\n",
      "Requirement already satisfied: markdown-it-py>=2.2.0 in /opt/anaconda3/lib/python3.9/site-packages (from rich->keras>=3.0.0->tensorflow) (3.0.0)\n",
      "Requirement already satisfied: pygments<3.0.0,>=2.13.0 in /opt/anaconda3/lib/python3.9/site-packages (from rich->keras>=3.0.0->tensorflow) (2.19.1)\n",
      "Requirement already satisfied: zipp>=0.5 in /opt/anaconda3/lib/python3.9/site-packages (from importlib-metadata>=4.4->markdown>=2.6.8->tensorboard<2.17,>=2.16->tensorflow) (3.6.0)\n",
      "Requirement already satisfied: mdurl~=0.1 in /opt/anaconda3/lib/python3.9/site-packages (from markdown-it-py>=2.2.0->rich->keras>=3.0.0->tensorflow) (0.1.2)\n",
      "Note: you may need to restart the kernel to use updated packages.\n"
     ]
    }
   ],
   "source": [
    "pip install tensorflow"
   ]
  },
  {
   "cell_type": "markdown",
   "id": "19f208b4",
   "metadata": {},
   "source": [
    "Current version of numpy does not work with TensorFlow, install older more compatible version"
   ]
  },
  {
   "cell_type": "code",
   "execution_count": 3,
   "id": "197880c6",
   "metadata": {},
   "outputs": [
    {
     "name": "stdout",
     "output_type": "stream",
     "text": [
      "Requirement already satisfied: numpy==1.23.5 in /opt/anaconda3/lib/python3.9/site-packages (1.23.5)\n",
      "Note: you may need to restart the kernel to use updated packages.\n"
     ]
    }
   ],
   "source": [
    "pip install numpy==1.23.5"
   ]
  },
  {
   "cell_type": "code",
   "execution_count": 36,
   "id": "634f18d0",
   "metadata": {},
   "outputs": [],
   "source": [
    "import re\n",
    "import numpy as np\n",
    "import pandas as pd\n",
    "import seaborn as sns\n",
    "import matplotlib.pyplot as plt\n",
    "\n",
    "from nltk.tokenize import word_tokenize\n",
    "\n",
    "from sklearn.feature_extraction.text import TfidfVectorizer\n",
    "from sklearn.metrics import classification_report\n",
    "from sklearn.metrics import confusion_matrix\n",
    "from sklearn.metrics import accuracy_score\n",
    "from sklearn.model_selection import train_test_split\n",
    "from sklearn.preprocessing import LabelEncoder\n",
    "\n",
    "import tensorflow as tf\n",
    "from tensorflow.keras import Sequential\n",
    "from tensorflow.keras.layers import Dense\n",
    "from tensorflow.keras.utils import to_categorical"
   ]
  },
  {
   "cell_type": "markdown",
   "id": "5569ba8d",
   "metadata": {},
   "source": [
    "#### "
   ]
  },
  {
   "cell_type": "markdown",
   "id": "f9066459",
   "metadata": {},
   "source": [
    "### Quick view of the raw data:"
   ]
  },
  {
   "cell_type": "code",
   "execution_count": 4,
   "id": "8b37913b",
   "metadata": {},
   "outputs": [
    {
     "data": {
      "text/html": [
       "<div>\n",
       "<style scoped>\n",
       "    .dataframe tbody tr th:only-of-type {\n",
       "        vertical-align: middle;\n",
       "    }\n",
       "\n",
       "    .dataframe tbody tr th {\n",
       "        vertical-align: top;\n",
       "    }\n",
       "\n",
       "    .dataframe thead th {\n",
       "        text-align: right;\n",
       "    }\n",
       "</style>\n",
       "<table border=\"1\" class=\"dataframe\">\n",
       "  <thead>\n",
       "    <tr style=\"text-align: right;\">\n",
       "      <th></th>\n",
       "      <th>productAsin</th>\n",
       "      <th>country</th>\n",
       "      <th>date</th>\n",
       "      <th>isVerified</th>\n",
       "      <th>ratingScore</th>\n",
       "      <th>reviewTitle</th>\n",
       "      <th>reviewDescription</th>\n",
       "      <th>reviewUrl</th>\n",
       "      <th>reviewedIn</th>\n",
       "      <th>variant</th>\n",
       "      <th>variantAsin</th>\n",
       "    </tr>\n",
       "  </thead>\n",
       "  <tbody>\n",
       "    <tr>\n",
       "      <th>0</th>\n",
       "      <td>B09G9BL5CP</td>\n",
       "      <td>India</td>\n",
       "      <td>11-08-2024</td>\n",
       "      <td>True</td>\n",
       "      <td>4</td>\n",
       "      <td>No charger</td>\n",
       "      <td>Every thing is good about iPhones, there's not...</td>\n",
       "      <td>https://www.amazon.in/gp/customer-reviews/R345...</td>\n",
       "      <td>Reviewed in India on 11 August 2024</td>\n",
       "      <td>Colour: MidnightSize: 256 GB</td>\n",
       "      <td>B09G9BQS98</td>\n",
       "    </tr>\n",
       "    <tr>\n",
       "      <th>1</th>\n",
       "      <td>B09G9BL5CP</td>\n",
       "      <td>India</td>\n",
       "      <td>16-08-2024</td>\n",
       "      <td>True</td>\n",
       "      <td>5</td>\n",
       "      <td>iPhone 13 256GB</td>\n",
       "      <td>It look so fabulous, I am android user switche...</td>\n",
       "      <td>https://www.amazon.in/gp/customer-reviews/R2HJ...</td>\n",
       "      <td>Reviewed in India on 16 August 2024</td>\n",
       "      <td>Colour: MidnightSize: 256 GB</td>\n",
       "      <td>B09G9BQS98</td>\n",
       "    </tr>\n",
       "    <tr>\n",
       "      <th>2</th>\n",
       "      <td>B09G9BL5CP</td>\n",
       "      <td>India</td>\n",
       "      <td>14-05-2024</td>\n",
       "      <td>True</td>\n",
       "      <td>4</td>\n",
       "      <td>Flip camera option nill</td>\n",
       "      <td>I tried to flip camera while recording but no ...</td>\n",
       "      <td>https://www.amazon.in/gp/customer-reviews/R3Y7...</td>\n",
       "      <td>Reviewed in India on 14 May 2024</td>\n",
       "      <td>Colour: MidnightSize: 256 GB</td>\n",
       "      <td>B09G9BQS98</td>\n",
       "    </tr>\n",
       "    <tr>\n",
       "      <th>3</th>\n",
       "      <td>B09G9BL5CP</td>\n",
       "      <td>India</td>\n",
       "      <td>24-06-2024</td>\n",
       "      <td>True</td>\n",
       "      <td>5</td>\n",
       "      <td>Product</td>\n",
       "      <td>100% genuine</td>\n",
       "      <td>https://www.amazon.in/gp/customer-reviews/R1P9...</td>\n",
       "      <td>Reviewed in India on 24 June 2024</td>\n",
       "      <td>Colour: MidnightSize: 256 GB</td>\n",
       "      <td>B09G9BQS98</td>\n",
       "    </tr>\n",
       "    <tr>\n",
       "      <th>4</th>\n",
       "      <td>B09G9BL5CP</td>\n",
       "      <td>India</td>\n",
       "      <td>18-05-2024</td>\n",
       "      <td>True</td>\n",
       "      <td>5</td>\n",
       "      <td>Good product</td>\n",
       "      <td>Happy to get the iPhone 13 in Amazon offer</td>\n",
       "      <td>https://www.amazon.in/gp/customer-reviews/R1XI...</td>\n",
       "      <td>Reviewed in India on 18 May 2024</td>\n",
       "      <td>Colour: MidnightSize: 256 GB</td>\n",
       "      <td>B09G9BQS98</td>\n",
       "    </tr>\n",
       "  </tbody>\n",
       "</table>\n",
       "</div>"
      ],
      "text/plain": [
       "  productAsin country        date  isVerified  ratingScore  \\\n",
       "0  B09G9BL5CP   India  11-08-2024        True            4   \n",
       "1  B09G9BL5CP   India  16-08-2024        True            5   \n",
       "2  B09G9BL5CP   India  14-05-2024        True            4   \n",
       "3  B09G9BL5CP   India  24-06-2024        True            5   \n",
       "4  B09G9BL5CP   India  18-05-2024        True            5   \n",
       "\n",
       "               reviewTitle                                  reviewDescription  \\\n",
       "0               No charger  Every thing is good about iPhones, there's not...   \n",
       "1          iPhone 13 256GB  It look so fabulous, I am android user switche...   \n",
       "2  Flip camera option nill  I tried to flip camera while recording but no ...   \n",
       "3                  Product                                       100% genuine   \n",
       "4             Good product         Happy to get the iPhone 13 in Amazon offer   \n",
       "\n",
       "                                           reviewUrl  \\\n",
       "0  https://www.amazon.in/gp/customer-reviews/R345...   \n",
       "1  https://www.amazon.in/gp/customer-reviews/R2HJ...   \n",
       "2  https://www.amazon.in/gp/customer-reviews/R3Y7...   \n",
       "3  https://www.amazon.in/gp/customer-reviews/R1P9...   \n",
       "4  https://www.amazon.in/gp/customer-reviews/R1XI...   \n",
       "\n",
       "                            reviewedIn                       variant  \\\n",
       "0  Reviewed in India on 11 August 2024  Colour: MidnightSize: 256 GB   \n",
       "1  Reviewed in India on 16 August 2024  Colour: MidnightSize: 256 GB   \n",
       "2     Reviewed in India on 14 May 2024  Colour: MidnightSize: 256 GB   \n",
       "3    Reviewed in India on 24 June 2024  Colour: MidnightSize: 256 GB   \n",
       "4     Reviewed in India on 18 May 2024  Colour: MidnightSize: 256 GB   \n",
       "\n",
       "  variantAsin  \n",
       "0  B09G9BQS98  \n",
       "1  B09G9BQS98  \n",
       "2  B09G9BQS98  \n",
       "3  B09G9BQS98  \n",
       "4  B09G9BQS98  "
      ]
     },
     "execution_count": 4,
     "metadata": {},
     "output_type": "execute_result"
    }
   ],
   "source": [
    "reviews = pd.read_csv('iphone.csv')\n",
    "reviews.head()"
   ]
  },
  {
   "cell_type": "markdown",
   "id": "daa9f0a6",
   "metadata": {},
   "source": [
    "#### "
   ]
  },
  {
   "cell_type": "markdown",
   "id": "b976381d",
   "metadata": {},
   "source": [
    "### Clean and prepare the data"
   ]
  },
  {
   "cell_type": "code",
   "execution_count": 5,
   "id": "a00a9dd6",
   "metadata": {},
   "outputs": [],
   "source": [
    "column_name_mapping = {'productAsin':'Product_Number','country':'Country','date':'Date',\n",
    "                       'isVerified':'Verified','ratingScore':'Rating_Score','reviewTitle':'Review_Title',\n",
    "                       'reviewDescription':'Review_Description','reviewUrl':'Review_Url',\n",
    "                       'reviewedIn':'Reviewer_Location','variant':'Product_Type','variantAsin':'Product_Type_Number'}\n",
    "\n",
    "reviews.rename(columns=column_name_mapping, inplace=True)"
   ]
  },
  {
   "cell_type": "code",
   "execution_count": 6,
   "id": "9caa74b3",
   "metadata": {},
   "outputs": [],
   "source": [
    "emojis = (r'[\\U0001F600-\\U0001F64F' \n",
    "        r'\\U0001F300-\\U0001F5FF'  \n",
    "        r'\\U0001F680-\\U0001F6FF'  \n",
    "        r'\\U0001F700-\\U0001F77F'  \n",
    "        r'\\U0001F780-\\U0001F7FF'  \n",
    "        r'\\U0001F800-\\U0001F8FF'  \n",
    "        r'\\U0001F900-\\U0001F9FF'  \n",
    "        r'\\U0001FA00-\\U0001FA6F'  \n",
    "        r'\\U0001FA70-\\U0001FAFF'  \n",
    "        r'\\U00002764\\ufe0f'  \n",
    "        r']+')\n",
    "\n",
    "# Removes emoji characters from Review_Description column\n",
    "reviews['Review_Description'] = reviews['Review_Description'].apply(lambda x: re.sub(emojis, '', str(x)) if isinstance(x, str) else x)\n",
    "\n",
    "# Asigns rating score a category of High, Low, and Neutral\n",
    "reviews['Rating_Category'] = np.where(reviews['Rating_Score'] >= 4, 'High', np.where(reviews['Rating_Score'] <=2, 'Low', 'Neutral'))"
   ]
  },
  {
   "cell_type": "code",
   "execution_count": 7,
   "id": "5001490b",
   "metadata": {},
   "outputs": [],
   "source": [
    "# Asigns rating category a number\n",
    "rating_mapping = {'High':1,'Low':2,'Neutral':3}\n",
    "reviews['Numerical_Rating_Category'] = reviews['Rating_Category'].map(rating_mapping)"
   ]
  },
  {
   "cell_type": "code",
   "execution_count": 8,
   "id": "6504f965",
   "metadata": {},
   "outputs": [],
   "source": [
    "reviews = reviews.dropna(subset=['Review_Description']) # Drop rows with null values"
   ]
  },
  {
   "cell_type": "markdown",
   "id": "5bc9d253",
   "metadata": {},
   "source": [
    "#### "
   ]
  },
  {
   "cell_type": "markdown",
   "id": "24adabe7",
   "metadata": {},
   "source": [
    "\n",
    "\n",
    "\n",
    "### Train the model:"
   ]
  },
  {
   "cell_type": "code",
   "execution_count": 11,
   "id": "86213510",
   "metadata": {},
   "outputs": [],
   "source": [
    "vectorizer = TfidfVectorizer(stop_words='english', lowercase=True, ngram_range=(1,2))\n",
    "\n",
    "X = vectorizer.fit_transform(reviews['Review_Description'])\n",
    "\n",
    "y = reviews['Numerical_Rating_Category']\n",
    "\n",
    "# Train the model\n",
    "X_train, X_test, y_train, y_test = train_test_split(X, y, test_size=0.3, random_state=42) "
   ]
  },
  {
   "cell_type": "code",
   "execution_count": 12,
   "id": "a1d30842",
   "metadata": {},
   "outputs": [],
   "source": [
    "x_train_dense = X_train.toarray()\n",
    "x_test_dense = X_test.toarray()\n",
    "\n",
    "label_encoder = LabelEncoder()\n",
    "\n",
    "y_train_encoded = label_encoder.fit_transform(y_train) # Converts labels to numbers\n",
    "y_test_encoded = label_encoder.fit_transform(y_test)"
   ]
  },
  {
   "cell_type": "code",
   "execution_count": 13,
   "id": "a177681b",
   "metadata": {},
   "outputs": [
    {
     "name": "stderr",
     "output_type": "stream",
     "text": [
      "/opt/anaconda3/lib/python3.9/site-packages/keras/src/layers/core/dense.py:87: UserWarning: Do not pass an `input_shape`/`input_dim` argument to a layer. When using Sequential models, prefer using an `Input(shape)` object as the first layer in the model instead.\n",
      "  super().__init__(activity_regularizer=activity_regularizer, **kwargs)\n"
     ]
    }
   ],
   "source": [
    "model = Sequential([\n",
    "    Dense(16, activation='relu', input_shape=(x_train_dense.shape[1],)),\n",
    "    Dense(8, activation='relu'),\n",
    "    Dense(3, activation='softmax')\n",
    "])"
   ]
  },
  {
   "cell_type": "code",
   "execution_count": 14,
   "id": "28ad169b",
   "metadata": {},
   "outputs": [],
   "source": [
    "model.compile(optimizer='adam',\n",
    "             loss='sparse_categorical_crossentropy',\n",
    "             metrics=['accuracy'])"
   ]
  },
  {
   "cell_type": "code",
   "execution_count": 15,
   "id": "cb588182",
   "metadata": {},
   "outputs": [
    {
     "name": "stdout",
     "output_type": "stream",
     "text": [
      "Epoch 1/20\n",
      "\u001b[1m66/66\u001b[0m \u001b[32m━━━━━━━━━━━━━━━━━━━━\u001b[0m\u001b[37m\u001b[0m \u001b[1m3s\u001b[0m 21ms/step - accuracy: 0.6677 - loss: 1.0516 - val_accuracy: 0.6741 - val_loss: 0.8801\n",
      "Epoch 2/20\n",
      "\u001b[1m66/66\u001b[0m \u001b[32m━━━━━━━━━━━━━━━━━━━━\u001b[0m\u001b[37m\u001b[0m \u001b[1m1s\u001b[0m 12ms/step - accuracy: 0.6808 - loss: 0.7825 - val_accuracy: 0.6887 - val_loss: 0.6862\n",
      "Epoch 3/20\n",
      "\u001b[1m66/66\u001b[0m \u001b[32m━━━━━━━━━━━━━━━━━━━━\u001b[0m\u001b[37m\u001b[0m \u001b[1m1s\u001b[0m 12ms/step - accuracy: 0.8096 - loss: 0.5154 - val_accuracy: 0.7951 - val_loss: 0.5597\n",
      "Epoch 4/20\n",
      "\u001b[1m66/66\u001b[0m \u001b[32m━━━━━━━━━━━━━━━━━━━━\u001b[0m\u001b[37m\u001b[0m \u001b[1m1s\u001b[0m 12ms/step - accuracy: 0.9038 - loss: 0.3215 - val_accuracy: 0.8108 - val_loss: 0.5079\n",
      "Epoch 5/20\n",
      "\u001b[1m66/66\u001b[0m \u001b[32m━━━━━━━━━━━━━━━━━━━━\u001b[0m\u001b[37m\u001b[0m \u001b[1m1s\u001b[0m 12ms/step - accuracy: 0.9028 - loss: 0.2469 - val_accuracy: 0.8197 - val_loss: 0.4873\n",
      "Epoch 6/20\n",
      "\u001b[1m66/66\u001b[0m \u001b[32m━━━━━━━━━━━━━━━━━━━━\u001b[0m\u001b[37m\u001b[0m \u001b[1m1s\u001b[0m 12ms/step - accuracy: 0.9122 - loss: 0.1928 - val_accuracy: 0.8309 - val_loss: 0.4732\n",
      "Epoch 7/20\n",
      "\u001b[1m66/66\u001b[0m \u001b[32m━━━━━━━━━━━━━━━━━━━━\u001b[0m\u001b[37m\u001b[0m \u001b[1m1s\u001b[0m 12ms/step - accuracy: 0.9068 - loss: 0.1669 - val_accuracy: 0.8287 - val_loss: 0.4665\n",
      "Epoch 8/20\n",
      "\u001b[1m66/66\u001b[0m \u001b[32m━━━━━━━━━━━━━━━━━━━━\u001b[0m\u001b[37m\u001b[0m \u001b[1m1s\u001b[0m 13ms/step - accuracy: 0.9102 - loss: 0.1521 - val_accuracy: 0.8242 - val_loss: 0.4772\n",
      "Epoch 9/20\n",
      "\u001b[1m66/66\u001b[0m \u001b[32m━━━━━━━━━━━━━━━━━━━━\u001b[0m\u001b[37m\u001b[0m \u001b[1m1s\u001b[0m 12ms/step - accuracy: 0.9242 - loss: 0.1275 - val_accuracy: 0.8253 - val_loss: 0.4780\n",
      "Epoch 10/20\n",
      "\u001b[1m66/66\u001b[0m \u001b[32m━━━━━━━━━━━━━━━━━━━━\u001b[0m\u001b[37m\u001b[0m \u001b[1m1s\u001b[0m 12ms/step - accuracy: 0.9292 - loss: 0.1214 - val_accuracy: 0.8298 - val_loss: 0.4726\n",
      "Epoch 11/20\n",
      "\u001b[1m66/66\u001b[0m \u001b[32m━━━━━━━━━━━━━━━━━━━━\u001b[0m\u001b[37m\u001b[0m \u001b[1m1s\u001b[0m 12ms/step - accuracy: 0.9547 - loss: 0.1137 - val_accuracy: 0.8365 - val_loss: 0.4801\n",
      "Epoch 12/20\n",
      "\u001b[1m66/66\u001b[0m \u001b[32m━━━━━━━━━━━━━━━━━━━━\u001b[0m\u001b[37m\u001b[0m \u001b[1m1s\u001b[0m 12ms/step - accuracy: 0.9729 - loss: 0.1128 - val_accuracy: 0.8343 - val_loss: 0.4889\n",
      "Epoch 13/20\n",
      "\u001b[1m66/66\u001b[0m \u001b[32m━━━━━━━━━━━━━━━━━━━━\u001b[0m\u001b[37m\u001b[0m \u001b[1m1s\u001b[0m 12ms/step - accuracy: 0.9885 - loss: 0.0933 - val_accuracy: 0.8354 - val_loss: 0.4954\n",
      "Epoch 14/20\n",
      "\u001b[1m66/66\u001b[0m \u001b[32m━━━━━━━━━━━━━━━━━━━━\u001b[0m\u001b[37m\u001b[0m \u001b[1m1s\u001b[0m 13ms/step - accuracy: 0.9892 - loss: 0.1030 - val_accuracy: 0.8331 - val_loss: 0.5009\n",
      "Epoch 15/20\n",
      "\u001b[1m66/66\u001b[0m \u001b[32m━━━━━━━━━━━━━━━━━━━━\u001b[0m\u001b[37m\u001b[0m \u001b[1m1s\u001b[0m 12ms/step - accuracy: 0.9922 - loss: 0.0957 - val_accuracy: 0.8365 - val_loss: 0.5041\n",
      "Epoch 16/20\n",
      "\u001b[1m66/66\u001b[0m \u001b[32m━━━━━━━━━━━━━━━━━━━━\u001b[0m\u001b[37m\u001b[0m \u001b[1m1s\u001b[0m 13ms/step - accuracy: 0.9904 - loss: 0.0993 - val_accuracy: 0.8365 - val_loss: 0.5067\n",
      "Epoch 17/20\n",
      "\u001b[1m66/66\u001b[0m \u001b[32m━━━━━━━━━━━━━━━━━━━━\u001b[0m\u001b[37m\u001b[0m \u001b[1m1s\u001b[0m 14ms/step - accuracy: 0.9918 - loss: 0.0882 - val_accuracy: 0.8365 - val_loss: 0.5111\n",
      "Epoch 18/20\n",
      "\u001b[1m66/66\u001b[0m \u001b[32m━━━━━━━━━━━━━━━━━━━━\u001b[0m\u001b[37m\u001b[0m \u001b[1m1s\u001b[0m 17ms/step - accuracy: 0.9925 - loss: 0.0864 - val_accuracy: 0.8343 - val_loss: 0.5082\n",
      "Epoch 19/20\n",
      "\u001b[1m66/66\u001b[0m \u001b[32m━━━━━━━━━━━━━━━━━━━━\u001b[0m\u001b[37m\u001b[0m \u001b[1m1s\u001b[0m 14ms/step - accuracy: 0.9924 - loss: 0.0829 - val_accuracy: 0.8320 - val_loss: 0.5168\n",
      "Epoch 20/20\n",
      "\u001b[1m66/66\u001b[0m \u001b[32m━━━━━━━━━━━━━━━━━━━━\u001b[0m\u001b[37m\u001b[0m \u001b[1m1s\u001b[0m 14ms/step - accuracy: 0.9922 - loss: 0.0822 - val_accuracy: 0.8354 - val_loss: 0.5093\n"
     ]
    }
   ],
   "source": [
    "history = model.fit(x_train_dense, y_train_encoded,\n",
    "                   epochs=20,\n",
    "                   batch_size=32,\n",
    "                   validation_data=(x_test_dense, y_test_encoded))"
   ]
  },
  {
   "cell_type": "code",
   "execution_count": 16,
   "id": "d665d61d",
   "metadata": {},
   "outputs": [
    {
     "name": "stdout",
     "output_type": "stream",
     "text": [
      "\u001b[1m28/28\u001b[0m \u001b[32m━━━━━━━━━━━━━━━━━━━━\u001b[0m\u001b[37m\u001b[0m \u001b[1m0s\u001b[0m 4ms/step - accuracy: 0.8513 - loss: 0.4565\n",
      "Test Loss: 0.5093\n",
      "Test Accuracy: 0.8354\n"
     ]
    }
   ],
   "source": [
    "loss, accuracy = model.evaluate(x_test_dense, y_test_encoded)\n",
    "print(f\"Test Loss: {loss:.4f}\")\n",
    "print(f\"Test Accuracy: {accuracy:.4f}\")"
   ]
  },
  {
   "cell_type": "markdown",
   "id": "5c2d1eb0",
   "metadata": {},
   "source": [
    "### Prediction:"
   ]
  },
  {
   "cell_type": "code",
   "execution_count": 17,
   "id": "f3eeb7a8",
   "metadata": {},
   "outputs": [],
   "source": [
    "def predict_customer_sentiment(review_text):\n",
    "    review_tfidf = vectorizer.transform([review_text])\n",
    "    \n",
    "    sentiment_labels = {1:'Positive', 2:'Negative', 3:'Neutral'}\n",
    "    \n",
    "    sentiment_probs = model.predict(review_tfidf.toarray())\n",
    "    sentiment_class = sentiment_probs.argmax(axis=1)[0]\n",
    "    \n",
    "    sentiment_class += 1\n",
    "    \n",
    "    return sentiment_labels[sentiment_class]"
   ]
  },
  {
   "cell_type": "code",
   "execution_count": 18,
   "id": "95df0dc9",
   "metadata": {},
   "outputs": [],
   "source": [
    "testreview1 = \"I absolutely love my new iPhone!\""
   ]
  },
  {
   "cell_type": "code",
   "execution_count": 19,
   "id": "48357927",
   "metadata": {},
   "outputs": [],
   "source": [
    "testreview2 = \"I am extremely disappointed with the iPhone. The battery life is bad.\""
   ]
  },
  {
   "cell_type": "code",
   "execution_count": 20,
   "id": "316c8824",
   "metadata": {},
   "outputs": [],
   "source": [
    "testreview3 = \"The phone is ok.\""
   ]
  },
  {
   "cell_type": "markdown",
   "id": "5ad00f38",
   "metadata": {},
   "source": [
    "### Testing:"
   ]
  },
  {
   "cell_type": "code",
   "execution_count": 21,
   "id": "36fff675",
   "metadata": {},
   "outputs": [
    {
     "name": "stdout",
     "output_type": "stream",
     "text": [
      "\u001b[1m1/1\u001b[0m \u001b[32m━━━━━━━━━━━━━━━━━━━━\u001b[0m\u001b[37m\u001b[0m \u001b[1m0s\u001b[0m 88ms/step\n",
      "Positive\n"
     ]
    }
   ],
   "source": [
    "print(predict_customer_sentiment(testreview1))"
   ]
  },
  {
   "cell_type": "code",
   "execution_count": 22,
   "id": "0f94ed41",
   "metadata": {},
   "outputs": [
    {
     "name": "stdout",
     "output_type": "stream",
     "text": [
      "\u001b[1m1/1\u001b[0m \u001b[32m━━━━━━━━━━━━━━━━━━━━\u001b[0m\u001b[37m\u001b[0m \u001b[1m0s\u001b[0m 48ms/step\n",
      "Negative\n"
     ]
    }
   ],
   "source": [
    "print(predict_customer_sentiment(testreview2))"
   ]
  },
  {
   "cell_type": "code",
   "execution_count": 23,
   "id": "25a0d11c",
   "metadata": {},
   "outputs": [
    {
     "name": "stdout",
     "output_type": "stream",
     "text": [
      "\u001b[1m1/1\u001b[0m \u001b[32m━━━━━━━━━━━━━━━━━━━━\u001b[0m\u001b[37m\u001b[0m \u001b[1m0s\u001b[0m 46ms/step\n"
     ]
    },
    {
     "data": {
      "text/plain": [
       "'Positive'"
      ]
     },
     "execution_count": 23,
     "metadata": {},
     "output_type": "execute_result"
    }
   ],
   "source": [
    "predict_customer_sentiment(testreview3)"
   ]
  },
  {
   "cell_type": "markdown",
   "id": "61ec7d0b",
   "metadata": {},
   "source": [
    "#### "
   ]
  },
  {
   "cell_type": "markdown",
   "id": "963e8a39",
   "metadata": {},
   "source": [
    "### Reviewing the model:"
   ]
  },
  {
   "cell_type": "code",
   "execution_count": 37,
   "id": "b507e15d",
   "metadata": {},
   "outputs": [
    {
     "name": "stdout",
     "output_type": "stream",
     "text": [
      "\u001b[1m28/28\u001b[0m \u001b[32m━━━━━━━━━━━━━━━━━━━━\u001b[0m\u001b[37m\u001b[0m \u001b[1m0s\u001b[0m 10ms/step\n"
     ]
    }
   ],
   "source": [
    "y_pred_probs = model.predict(x_test_dense)"
   ]
  },
  {
   "cell_type": "code",
   "execution_count": 38,
   "id": "691763d2",
   "metadata": {},
   "outputs": [],
   "source": [
    "y_pred = y_pred_probs.argmax(axis=1) + 1"
   ]
  },
  {
   "cell_type": "code",
   "execution_count": 39,
   "id": "c5f087c5",
   "metadata": {},
   "outputs": [
    {
     "name": "stdout",
     "output_type": "stream",
     "text": [
      "Accuracy Score: 0.84\n"
     ]
    }
   ],
   "source": [
    "accuracy = accuracy_score(y_test, y_pred)\n",
    "print(f\"Accuracy Score: {accuracy:.2f}\")"
   ]
  },
  {
   "cell_type": "code",
   "execution_count": 40,
   "id": "4738c908",
   "metadata": {},
   "outputs": [
    {
     "name": "stdout",
     "output_type": "stream",
     "text": [
      "              precision    recall  f1-score   support\n",
      "\n",
      "        High       0.86      0.94      0.90       602\n",
      "    Negative       0.75      0.76      0.75       222\n",
      "     Neutral       0.92      0.16      0.27        69\n",
      "\n",
      "    accuracy                           0.84       893\n",
      "   macro avg       0.84      0.62      0.64       893\n",
      "weighted avg       0.84      0.84      0.82       893\n",
      "\n"
     ]
    }
   ],
   "source": [
    "# Print the classification report\n",
    "print(classification_report(y_test, y_pred, target_names=['High', 'Negative', 'Neutral']))\n"
   ]
  },
  {
   "cell_type": "code",
   "execution_count": 27,
   "id": "c24c17b1",
   "metadata": {},
   "outputs": [
    {
     "data": {
      "image/png": "[encoded data removed]",
      "text/plain": [
       "<Figure size 432x288 with 2 Axes>"
      ]
     },
     "metadata": {
      "needs_background": "light"
     },
     "output_type": "display_data"
    }
   ],
   "source": [
    "cm = confusion_matrix(y_test, y_pred)\n",
    "sns.heatmap(cm, annot=True, fmt='d', cmap='Blues', xticklabels=['Negative', 'Neutral', 'Positive'], yticklabels=['Negative', 'Neutral', 'Positive'])\n",
    "plt.xlabel('Predicted')\n",
    "plt.ylabel('True')\n",
    "plt.show()"
   ]
  },
  {
   "cell_type": "code",
   "execution_count": 28,
   "id": "23547f8a",
   "metadata": {},
   "outputs": [],
   "source": [
    "def confidence_scores(review_text):\n",
    "    review_tfidf = vectorizer.transform([review_text])\n",
    "    \n",
    "    sentiment_labels = {1:'Positive', 2:'Negative', 3:'Neutral'}\n",
    "    \n",
    "    sentiment_probs = model.predict(review_tfidf.toarray())\n",
    "    sentiment_class = sentiment_probs.argmax(axis=1)[0]\n",
    "    \n",
    "    sentiment_class += 1\n",
    "    \n",
    "    \n",
    "    confidence = sentiment_probs[0][sentiment_class - 1]\n",
    "    return sentiment_labels[sentiment_class], confidence"
   ]
  },
  {
   "cell_type": "code",
   "execution_count": 29,
   "id": "144067cb",
   "metadata": {},
   "outputs": [
    {
     "name": "stdout",
     "output_type": "stream",
     "text": [
      "\u001b[1m1/1\u001b[0m \u001b[32m━━━━━━━━━━━━━━━━━━━━\u001b[0m\u001b[37m\u001b[0m \u001b[1m0s\u001b[0m 44ms/step\n",
      "('Positive', 0.9997217)\n",
      "\u001b[1m1/1\u001b[0m \u001b[32m━━━━━━━━━━━━━━━━━━━━\u001b[0m\u001b[37m\u001b[0m \u001b[1m0s\u001b[0m 41ms/step\n",
      "('Negative', 0.7595466)\n",
      "\u001b[1m1/1\u001b[0m \u001b[32m━━━━━━━━━━━━━━━━━━━━\u001b[0m\u001b[37m\u001b[0m \u001b[1m0s\u001b[0m 43ms/step\n",
      "('Positive', 0.7905306)\n"
     ]
    }
   ],
   "source": [
    "print(confidence_scores(testreview1))\n",
    "print(confidence_scores(testreview2))\n",
    "print(confidence_scores(testreview3))"
   ]
  },
  {
   "cell_type": "code",
   "execution_count": null,
   "id": "d8ed4ce1",
   "metadata": {},
   "outputs": [],
   "source": []
  }
 ],
 "metadata": {
  "kernelspec": {
   "display_name": "Python 3 (ipykernel)",
   "language": "python",
   "name": "python3"
  },
  "language_info": {
   "codemirror_mode": {
    "name": "ipython",
    "version": 3
   },
   "file_extension": ".py",
   "mimetype": "text/x-python",
   "name": "python",
   "nbconvert_exporter": "python",
   "pygments_lexer": "ipython3",
   "version": "3.9.7"
  }
 },
 "nbformat": 4,
 "nbformat_minor": 5
}
